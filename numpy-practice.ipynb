{
 "cells": [
  {
   "cell_type": "code",
   "execution_count": 1,
   "id": "9a6f226d",
   "metadata": {
    "execution": {
     "iopub.execute_input": "2025-09-06T09:26:09.716131Z",
     "iopub.status.busy": "2025-09-06T09:26:09.715435Z",
     "iopub.status.idle": "2025-09-06T09:26:09.725471Z",
     "shell.execute_reply": "2025-09-06T09:26:09.724520Z"
    },
    "papermill": {
     "duration": 0.031374,
     "end_time": "2025-09-06T09:26:09.727273",
     "exception": false,
     "start_time": "2025-09-06T09:26:09.695899",
     "status": "completed"
    },
    "tags": []
   },
   "outputs": [],
   "source": [
    "import numpy as np"
   ]
  },
  {
   "cell_type": "markdown",
   "id": "f1b03918",
   "metadata": {
    "papermill": {
     "duration": 0.019292,
     "end_time": "2025-09-06T09:26:09.765453",
     "exception": false,
     "start_time": "2025-09-06T09:26:09.746161",
     "status": "completed"
    },
    "tags": []
   },
   "source": [
    "# 1. Creating an Array:"
   ]
  },
  {
   "cell_type": "code",
   "execution_count": 2,
   "id": "74cef758",
   "metadata": {
    "execution": {
     "iopub.execute_input": "2025-09-06T09:26:09.800697Z",
     "iopub.status.busy": "2025-09-06T09:26:09.799977Z",
     "iopub.status.idle": "2025-09-06T09:26:09.803988Z",
     "shell.execute_reply": "2025-09-06T09:26:09.803223Z"
    },
    "papermill": {
     "duration": 0.023261,
     "end_time": "2025-09-06T09:26:09.805204",
     "exception": false,
     "start_time": "2025-09-06T09:26:09.781943",
     "status": "completed"
    },
    "tags": []
   },
   "outputs": [],
   "source": [
    "a = np.array([1,2,3])"
   ]
  },
  {
   "cell_type": "code",
   "execution_count": 3,
   "id": "50a4677b",
   "metadata": {
    "execution": {
     "iopub.execute_input": "2025-09-06T09:26:09.834497Z",
     "iopub.status.busy": "2025-09-06T09:26:09.833726Z",
     "iopub.status.idle": "2025-09-06T09:26:09.840796Z",
     "shell.execute_reply": "2025-09-06T09:26:09.839931Z"
    },
    "papermill": {
     "duration": 0.023206,
     "end_time": "2025-09-06T09:26:09.842212",
     "exception": false,
     "start_time": "2025-09-06T09:26:09.819006",
     "status": "completed"
    },
    "tags": []
   },
   "outputs": [
    {
     "data": {
      "text/plain": [
       "array([1, 2, 3])"
      ]
     },
     "execution_count": 3,
     "metadata": {},
     "output_type": "execute_result"
    }
   ],
   "source": [
    "a"
   ]
  },
  {
   "cell_type": "code",
   "execution_count": 4,
   "id": "0205992a",
   "metadata": {
    "execution": {
     "iopub.execute_input": "2025-09-06T09:26:09.871272Z",
     "iopub.status.busy": "2025-09-06T09:26:09.870994Z",
     "iopub.status.idle": "2025-09-06T09:26:09.876756Z",
     "shell.execute_reply": "2025-09-06T09:26:09.876081Z"
    },
    "papermill": {
     "duration": 0.021759,
     "end_time": "2025-09-06T09:26:09.878078",
     "exception": false,
     "start_time": "2025-09-06T09:26:09.856319",
     "status": "completed"
    },
    "tags": []
   },
   "outputs": [
    {
     "data": {
      "text/plain": [
       "array([[1.5, 2. , 3. ],\n",
       "       [4. , 5. , 6. ]])"
      ]
     },
     "execution_count": 4,
     "metadata": {},
     "output_type": "execute_result"
    }
   ],
   "source": [
    "b = np.array([(1.5,2,3), (4,5,6)], dtype = float) \n",
    "b"
   ]
  },
  {
   "cell_type": "code",
   "execution_count": 5,
   "id": "a7d557b5",
   "metadata": {
    "execution": {
     "iopub.execute_input": "2025-09-06T09:26:09.912832Z",
     "iopub.status.busy": "2025-09-06T09:26:09.912331Z",
     "iopub.status.idle": "2025-09-06T09:26:09.920985Z",
     "shell.execute_reply": "2025-09-06T09:26:09.919630Z"
    },
    "papermill": {
     "duration": 0.030427,
     "end_time": "2025-09-06T09:26:09.922592",
     "exception": false,
     "start_time": "2025-09-06T09:26:09.892165",
     "status": "completed"
    },
    "tags": []
   },
   "outputs": [
    {
     "data": {
      "text/plain": [
       "array([[[1.5, 2. , 3. ],\n",
       "        [4. , 5. , 6. ]],\n",
       "\n",
       "       [[3. , 2. , 1. ],\n",
       "        [4. , 5. , 6. ]]])"
      ]
     },
     "execution_count": 5,
     "metadata": {},
     "output_type": "execute_result"
    }
   ],
   "source": [
    "c = np.array([[(1.5,2,3), (4,5,6)],[(3,2,1), (4,5,6)]], dtype = float)\n",
    "c"
   ]
  },
  {
   "cell_type": "markdown",
   "id": "25bd33d1",
   "metadata": {
    "papermill": {
     "duration": 0.019473,
     "end_time": "2025-09-06T09:26:09.963079",
     "exception": false,
     "start_time": "2025-09-06T09:26:09.943606",
     "status": "completed"
    },
    "tags": []
   },
   "source": [
    "# 2.Some Inbuilt Function:"
   ]
  },
  {
   "cell_type": "code",
   "execution_count": 6,
   "id": "8d67ff22",
   "metadata": {
    "execution": {
     "iopub.execute_input": "2025-09-06T09:26:10.051292Z",
     "iopub.status.busy": "2025-09-06T09:26:10.050735Z",
     "iopub.status.idle": "2025-09-06T09:26:10.056362Z",
     "shell.execute_reply": "2025-09-06T09:26:10.055622Z"
    },
    "papermill": {
     "duration": 0.021839,
     "end_time": "2025-09-06T09:26:10.057579",
     "exception": false,
     "start_time": "2025-09-06T09:26:10.035740",
     "status": "completed"
    },
    "tags": []
   },
   "outputs": [
    {
     "data": {
      "text/plain": [
       "array([[0., 0., 0., 0.],\n",
       "       [0., 0., 0., 0.],\n",
       "       [0., 0., 0., 0.]])"
      ]
     },
     "execution_count": 6,
     "metadata": {},
     "output_type": "execute_result"
    }
   ],
   "source": [
    "np.zeros((3,4)) #Create an array with zeros"
   ]
  },
  {
   "cell_type": "code",
   "execution_count": 7,
   "id": "5593fb14",
   "metadata": {
    "execution": {
     "iopub.execute_input": "2025-09-06T09:26:10.087030Z",
     "iopub.status.busy": "2025-09-06T09:26:10.086395Z",
     "iopub.status.idle": "2025-09-06T09:26:10.091852Z",
     "shell.execute_reply": "2025-09-06T09:26:10.091249Z"
    },
    "papermill": {
     "duration": 0.021445,
     "end_time": "2025-09-06T09:26:10.093099",
     "exception": false,
     "start_time": "2025-09-06T09:26:10.071654",
     "status": "completed"
    },
    "tags": []
   },
   "outputs": [
    {
     "data": {
      "text/plain": [
       "array([[[1, 1, 1, 1],\n",
       "        [1, 1, 1, 1],\n",
       "        [1, 1, 1, 1]],\n",
       "\n",
       "       [[1, 1, 1, 1],\n",
       "        [1, 1, 1, 1],\n",
       "        [1, 1, 1, 1]]], dtype=int16)"
      ]
     },
     "execution_count": 7,
     "metadata": {},
     "output_type": "execute_result"
    }
   ],
   "source": [
    "np.ones((2,3,4),dtype=np.int16) #Create an array with 1 "
   ]
  },
  {
   "cell_type": "code",
   "execution_count": 8,
   "id": "06bae8f6",
   "metadata": {
    "execution": {
     "iopub.execute_input": "2025-09-06T09:26:10.123303Z",
     "iopub.status.busy": "2025-09-06T09:26:10.122689Z",
     "iopub.status.idle": "2025-09-06T09:26:10.127884Z",
     "shell.execute_reply": "2025-09-06T09:26:10.127259Z"
    },
    "papermill": {
     "duration": 0.021639,
     "end_time": "2025-09-06T09:26:10.129191",
     "exception": false,
     "start_time": "2025-09-06T09:26:10.107552",
     "status": "completed"
    },
    "tags": []
   },
   "outputs": [
    {
     "data": {
      "text/plain": [
       "array([10, 15, 20, 25, 30])"
      ]
     },
     "execution_count": 8,
     "metadata": {},
     "output_type": "execute_result"
    }
   ],
   "source": [
    "np.arange(10,35,5) #Create an array of evenly spaced values (step value) "
   ]
  },
  {
   "cell_type": "code",
   "execution_count": 9,
   "id": "5c7f130b",
   "metadata": {
    "execution": {
     "iopub.execute_input": "2025-09-06T09:26:10.159480Z",
     "iopub.status.busy": "2025-09-06T09:26:10.158780Z",
     "iopub.status.idle": "2025-09-06T09:26:10.164073Z",
     "shell.execute_reply": "2025-09-06T09:26:10.163424Z"
    },
    "papermill": {
     "duration": 0.021776,
     "end_time": "2025-09-06T09:26:10.165413",
     "exception": false,
     "start_time": "2025-09-06T09:26:10.143637",
     "status": "completed"
    },
    "tags": []
   },
   "outputs": [
    {
     "data": {
      "text/plain": [
       "array([0.  , 0.25, 0.5 , 0.75, 1.  , 1.25, 1.5 , 1.75, 2.  ])"
      ]
     },
     "execution_count": 9,
     "metadata": {},
     "output_type": "execute_result"
    }
   ],
   "source": [
    "np.linspace(0,2,9) #Create an array of evenlyspaced values (number of samples)"
   ]
  },
  {
   "cell_type": "code",
   "execution_count": 10,
   "id": "dffce3b7",
   "metadata": {
    "execution": {
     "iopub.execute_input": "2025-09-06T09:26:10.196924Z",
     "iopub.status.busy": "2025-09-06T09:26:10.195973Z",
     "iopub.status.idle": "2025-09-06T09:26:10.202837Z",
     "shell.execute_reply": "2025-09-06T09:26:10.202036Z"
    },
    "papermill": {
     "duration": 0.024384,
     "end_time": "2025-09-06T09:26:10.204329",
     "exception": false,
     "start_time": "2025-09-06T09:26:10.179945",
     "status": "completed"
    },
    "tags": []
   },
   "outputs": [
    {
     "data": {
      "text/plain": [
       "array([[0.06989122, 0.95612798],\n",
       "       [0.16617225, 0.48023489]])"
      ]
     },
     "execution_count": 10,
     "metadata": {},
     "output_type": "execute_result"
    }
   ],
   "source": [
    "np.random.random((2,2))"
   ]
  },
  {
   "cell_type": "code",
   "execution_count": 11,
   "id": "d011577f",
   "metadata": {
    "execution": {
     "iopub.execute_input": "2025-09-06T09:26:10.242035Z",
     "iopub.status.busy": "2025-09-06T09:26:10.240750Z",
     "iopub.status.idle": "2025-09-06T09:26:10.247832Z",
     "shell.execute_reply": "2025-09-06T09:26:10.246723Z"
    },
    "papermill": {
     "duration": 0.025352,
     "end_time": "2025-09-06T09:26:10.249315",
     "exception": false,
     "start_time": "2025-09-06T09:26:10.223963",
     "status": "completed"
    },
    "tags": []
   },
   "outputs": [
    {
     "data": {
      "text/plain": [
       "array([[1.5, 2. ],\n",
       "       [3. , 4. ],\n",
       "       [5. , 6. ]])"
      ]
     },
     "execution_count": 11,
     "metadata": {},
     "output_type": "execute_result"
    }
   ],
   "source": [
    "np.empty((3,2)) #It gives some garbage value"
   ]
  },
  {
   "cell_type": "markdown",
   "id": "c58fd3e2",
   "metadata": {
    "papermill": {
     "duration": 0.014466,
     "end_time": "2025-09-06T09:26:10.278707",
     "exception": false,
     "start_time": "2025-09-06T09:26:10.264241",
     "status": "completed"
    },
    "tags": []
   },
   "source": [
    "# 3.Inspecting Array:"
   ]
  },
  {
   "cell_type": "code",
   "execution_count": 12,
   "id": "f929d539",
   "metadata": {
    "execution": {
     "iopub.execute_input": "2025-09-06T09:26:10.309306Z",
     "iopub.status.busy": "2025-09-06T09:26:10.308641Z",
     "iopub.status.idle": "2025-09-06T09:26:10.313977Z",
     "shell.execute_reply": "2025-09-06T09:26:10.313178Z"
    },
    "papermill": {
     "duration": 0.021912,
     "end_time": "2025-09-06T09:26:10.315222",
     "exception": false,
     "start_time": "2025-09-06T09:26:10.293310",
     "status": "completed"
    },
    "tags": []
   },
   "outputs": [
    {
     "data": {
      "text/plain": [
       "(3,)"
      ]
     },
     "execution_count": 12,
     "metadata": {},
     "output_type": "execute_result"
    }
   ],
   "source": [
    "a = np.array([1,2,3]) #Array dimensions\n",
    "a.shape\n"
   ]
  },
  {
   "cell_type": "code",
   "execution_count": 13,
   "id": "34a97292",
   "metadata": {
    "execution": {
     "iopub.execute_input": "2025-09-06T09:26:10.345501Z",
     "iopub.status.busy": "2025-09-06T09:26:10.345227Z",
     "iopub.status.idle": "2025-09-06T09:26:10.350783Z",
     "shell.execute_reply": "2025-09-06T09:26:10.350012Z"
    },
    "papermill": {
     "duration": 0.022509,
     "end_time": "2025-09-06T09:26:10.352213",
     "exception": false,
     "start_time": "2025-09-06T09:26:10.329704",
     "status": "completed"
    },
    "tags": []
   },
   "outputs": [
    {
     "data": {
      "text/plain": [
       "(2, 3)"
      ]
     },
     "execution_count": 13,
     "metadata": {},
     "output_type": "execute_result"
    }
   ],
   "source": [
    "a = np.array([[1,2,3],[4,5,8]])\n",
    "a.shape"
   ]
  },
  {
   "cell_type": "code",
   "execution_count": 14,
   "id": "a5b0d4f4",
   "metadata": {
    "execution": {
     "iopub.execute_input": "2025-09-06T09:26:10.382845Z",
     "iopub.status.busy": "2025-09-06T09:26:10.382521Z",
     "iopub.status.idle": "2025-09-06T09:26:10.388689Z",
     "shell.execute_reply": "2025-09-06T09:26:10.387853Z"
    },
    "papermill": {
     "duration": 0.023135,
     "end_time": "2025-09-06T09:26:10.390032",
     "exception": false,
     "start_time": "2025-09-06T09:26:10.366897",
     "status": "completed"
    },
    "tags": []
   },
   "outputs": [
    {
     "data": {
      "text/plain": [
       "(2, 2, 3)"
      ]
     },
     "execution_count": 14,
     "metadata": {},
     "output_type": "execute_result"
    }
   ],
   "source": [
    "a = np.array([[[1,2,3],[4,5,6]],[[7,8,9],[10,11,12]]])\n",
    "a.shape"
   ]
  },
  {
   "cell_type": "code",
   "execution_count": 15,
   "id": "05274c56",
   "metadata": {
    "execution": {
     "iopub.execute_input": "2025-09-06T09:26:10.421382Z",
     "iopub.status.busy": "2025-09-06T09:26:10.421075Z",
     "iopub.status.idle": "2025-09-06T09:26:10.426759Z",
     "shell.execute_reply": "2025-09-06T09:26:10.425703Z"
    },
    "papermill": {
     "duration": 0.023097,
     "end_time": "2025-09-06T09:26:10.428410",
     "exception": false,
     "start_time": "2025-09-06T09:26:10.405313",
     "status": "completed"
    },
    "tags": []
   },
   "outputs": [
    {
     "data": {
      "text/plain": [
       "3"
      ]
     },
     "execution_count": 15,
     "metadata": {},
     "output_type": "execute_result"
    }
   ],
   "source": [
    "a = np.array([1,2,3])  #Length of array\n",
    "len(a)"
   ]
  },
  {
   "cell_type": "code",
   "execution_count": 16,
   "id": "5bd7694f",
   "metadata": {
    "execution": {
     "iopub.execute_input": "2025-09-06T09:26:10.459821Z",
     "iopub.status.busy": "2025-09-06T09:26:10.459264Z",
     "iopub.status.idle": "2025-09-06T09:26:10.464532Z",
     "shell.execute_reply": "2025-09-06T09:26:10.463848Z"
    },
    "papermill": {
     "duration": 0.022244,
     "end_time": "2025-09-06T09:26:10.465927",
     "exception": false,
     "start_time": "2025-09-06T09:26:10.443683",
     "status": "completed"
    },
    "tags": []
   },
   "outputs": [
    {
     "data": {
      "text/plain": [
       "2"
      ]
     },
     "execution_count": 16,
     "metadata": {},
     "output_type": "execute_result"
    }
   ],
   "source": [
    "a = np.array([[1,2,3],[4,5,6]])\n",
    "len(a)"
   ]
  },
  {
   "cell_type": "code",
   "execution_count": 17,
   "id": "b3911d4b",
   "metadata": {
    "execution": {
     "iopub.execute_input": "2025-09-06T09:26:10.497708Z",
     "iopub.status.busy": "2025-09-06T09:26:10.497393Z",
     "iopub.status.idle": "2025-09-06T09:26:10.503150Z",
     "shell.execute_reply": "2025-09-06T09:26:10.502351Z"
    },
    "papermill": {
     "duration": 0.0235,
     "end_time": "2025-09-06T09:26:10.504623",
     "exception": false,
     "start_time": "2025-09-06T09:26:10.481123",
     "status": "completed"
    },
    "tags": []
   },
   "outputs": [
    {
     "data": {
      "text/plain": [
       "2"
      ]
     },
     "execution_count": 17,
     "metadata": {},
     "output_type": "execute_result"
    }
   ],
   "source": [
    "a = np.array([[[1,2,3],[4,5,6]],[[7,8,9],[10,11,12]]])\n",
    "len(a)"
   ]
  },
  {
   "cell_type": "code",
   "execution_count": 18,
   "id": "131f6017",
   "metadata": {
    "execution": {
     "iopub.execute_input": "2025-09-06T09:26:10.537371Z",
     "iopub.status.busy": "2025-09-06T09:26:10.537090Z",
     "iopub.status.idle": "2025-09-06T09:26:10.542313Z",
     "shell.execute_reply": "2025-09-06T09:26:10.541605Z"
    },
    "papermill": {
     "duration": 0.023149,
     "end_time": "2025-09-06T09:26:10.543730",
     "exception": false,
     "start_time": "2025-09-06T09:26:10.520581",
     "status": "completed"
    },
    "tags": []
   },
   "outputs": [
    {
     "data": {
      "text/plain": [
       "1"
      ]
     },
     "execution_count": 18,
     "metadata": {},
     "output_type": "execute_result"
    }
   ],
   "source": [
    "a = np.array([1,2,3])\n",
    "a.ndim"
   ]
  },
  {
   "cell_type": "code",
   "execution_count": 19,
   "id": "79090c20",
   "metadata": {
    "execution": {
     "iopub.execute_input": "2025-09-06T09:26:10.575229Z",
     "iopub.status.busy": "2025-09-06T09:26:10.574940Z",
     "iopub.status.idle": "2025-09-06T09:26:10.580149Z",
     "shell.execute_reply": "2025-09-06T09:26:10.579379Z"
    },
    "papermill": {
     "duration": 0.022466,
     "end_time": "2025-09-06T09:26:10.581445",
     "exception": false,
     "start_time": "2025-09-06T09:26:10.558979",
     "status": "completed"
    },
    "tags": []
   },
   "outputs": [
    {
     "data": {
      "text/plain": [
       "2"
      ]
     },
     "execution_count": 19,
     "metadata": {},
     "output_type": "execute_result"
    }
   ],
   "source": [
    "a = np.array([[1,2,3],[4,5,6]])\n",
    "a.ndim"
   ]
  },
  {
   "cell_type": "code",
   "execution_count": 20,
   "id": "d3a33a6c",
   "metadata": {
    "execution": {
     "iopub.execute_input": "2025-09-06T09:26:10.613952Z",
     "iopub.status.busy": "2025-09-06T09:26:10.613182Z",
     "iopub.status.idle": "2025-09-06T09:26:10.618585Z",
     "shell.execute_reply": "2025-09-06T09:26:10.617936Z"
    },
    "papermill": {
     "duration": 0.023126,
     "end_time": "2025-09-06T09:26:10.620051",
     "exception": false,
     "start_time": "2025-09-06T09:26:10.596925",
     "status": "completed"
    },
    "tags": []
   },
   "outputs": [
    {
     "data": {
      "text/plain": [
       "3"
      ]
     },
     "execution_count": 20,
     "metadata": {},
     "output_type": "execute_result"
    }
   ],
   "source": [
    "a = np.array([[[1,2,3],[4,5,6]],[[7,8,9],[10,11,12]]])\n",
    "a.ndim"
   ]
  },
  {
   "cell_type": "code",
   "execution_count": 21,
   "id": "ac9a0934",
   "metadata": {
    "execution": {
     "iopub.execute_input": "2025-09-06T09:26:10.653650Z",
     "iopub.status.busy": "2025-09-06T09:26:10.653361Z",
     "iopub.status.idle": "2025-09-06T09:26:10.658615Z",
     "shell.execute_reply": "2025-09-06T09:26:10.657845Z"
    },
    "papermill": {
     "duration": 0.022945,
     "end_time": "2025-09-06T09:26:10.660239",
     "exception": false,
     "start_time": "2025-09-06T09:26:10.637294",
     "status": "completed"
    },
    "tags": []
   },
   "outputs": [
    {
     "data": {
      "text/plain": [
       "3"
      ]
     },
     "execution_count": 21,
     "metadata": {},
     "output_type": "execute_result"
    }
   ],
   "source": [
    "a = np.array([1,2,3]) #Number of array elements\n",
    "a.size"
   ]
  },
  {
   "cell_type": "code",
   "execution_count": 22,
   "id": "ce7cd62a",
   "metadata": {
    "execution": {
     "iopub.execute_input": "2025-09-06T09:26:10.692916Z",
     "iopub.status.busy": "2025-09-06T09:26:10.692302Z",
     "iopub.status.idle": "2025-09-06T09:26:10.698090Z",
     "shell.execute_reply": "2025-09-06T09:26:10.697259Z"
    },
    "papermill": {
     "duration": 0.023472,
     "end_time": "2025-09-06T09:26:10.699401",
     "exception": false,
     "start_time": "2025-09-06T09:26:10.675929",
     "status": "completed"
    },
    "tags": []
   },
   "outputs": [
    {
     "data": {
      "text/plain": [
       "6"
      ]
     },
     "execution_count": 22,
     "metadata": {},
     "output_type": "execute_result"
    }
   ],
   "source": [
    "a = np.array([[1,2,3],[4,5,6]])\n",
    "a.size"
   ]
  },
  {
   "cell_type": "code",
   "execution_count": 23,
   "id": "4ade0e99",
   "metadata": {
    "execution": {
     "iopub.execute_input": "2025-09-06T09:26:10.731819Z",
     "iopub.status.busy": "2025-09-06T09:26:10.731119Z",
     "iopub.status.idle": "2025-09-06T09:26:10.737490Z",
     "shell.execute_reply": "2025-09-06T09:26:10.736662Z"
    },
    "papermill": {
     "duration": 0.024165,
     "end_time": "2025-09-06T09:26:10.739138",
     "exception": false,
     "start_time": "2025-09-06T09:26:10.714973",
     "status": "completed"
    },
    "tags": []
   },
   "outputs": [
    {
     "data": {
      "text/plain": [
       "12"
      ]
     },
     "execution_count": 23,
     "metadata": {},
     "output_type": "execute_result"
    }
   ],
   "source": [
    "a = np.array([[[1,2,3],[4,5,6]],[[7,8,9],[10,11,12]]])\n",
    "a.size"
   ]
  },
  {
   "cell_type": "code",
   "execution_count": 24,
   "id": "01b231c3",
   "metadata": {
    "execution": {
     "iopub.execute_input": "2025-09-06T09:26:10.773928Z",
     "iopub.status.busy": "2025-09-06T09:26:10.773543Z",
     "iopub.status.idle": "2025-09-06T09:26:10.779654Z",
     "shell.execute_reply": "2025-09-06T09:26:10.778974Z"
    },
    "papermill": {
     "duration": 0.024633,
     "end_time": "2025-09-06T09:26:10.781053",
     "exception": false,
     "start_time": "2025-09-06T09:26:10.756420",
     "status": "completed"
    },
    "tags": []
   },
   "outputs": [
    {
     "data": {
      "text/plain": [
       "dtype('int64')"
      ]
     },
     "execution_count": 24,
     "metadata": {},
     "output_type": "execute_result"
    }
   ],
   "source": [
    "a = np.array([1,2,3]) #Data type of array elements\n",
    "a.dtype"
   ]
  },
  {
   "cell_type": "code",
   "execution_count": 25,
   "id": "f41e8cf0",
   "metadata": {
    "execution": {
     "iopub.execute_input": "2025-09-06T09:26:10.814474Z",
     "iopub.status.busy": "2025-09-06T09:26:10.814209Z",
     "iopub.status.idle": "2025-09-06T09:26:10.820383Z",
     "shell.execute_reply": "2025-09-06T09:26:10.819536Z"
    },
    "papermill": {
     "duration": 0.024401,
     "end_time": "2025-09-06T09:26:10.821761",
     "exception": false,
     "start_time": "2025-09-06T09:26:10.797360",
     "status": "completed"
    },
    "tags": []
   },
   "outputs": [
    {
     "data": {
      "text/plain": [
       "dtype('int64')"
      ]
     },
     "execution_count": 25,
     "metadata": {},
     "output_type": "execute_result"
    }
   ],
   "source": [
    "a = np.array([[1,2,3],[4,5,6]])\n",
    "a.dtype"
   ]
  },
  {
   "cell_type": "code",
   "execution_count": 26,
   "id": "576a8008",
   "metadata": {
    "execution": {
     "iopub.execute_input": "2025-09-06T09:26:10.854944Z",
     "iopub.status.busy": "2025-09-06T09:26:10.854082Z",
     "iopub.status.idle": "2025-09-06T09:26:10.860234Z",
     "shell.execute_reply": "2025-09-06T09:26:10.859341Z"
    },
    "papermill": {
     "duration": 0.024181,
     "end_time": "2025-09-06T09:26:10.861611",
     "exception": false,
     "start_time": "2025-09-06T09:26:10.837430",
     "status": "completed"
    },
    "tags": []
   },
   "outputs": [
    {
     "data": {
      "text/plain": [
       "dtype('int64')"
      ]
     },
     "execution_count": 26,
     "metadata": {},
     "output_type": "execute_result"
    }
   ],
   "source": [
    "a = np.array([[[1,2,3],[4,5,6]],[[7,8,9],[10,11,12]]])\n",
    "a.dtype"
   ]
  },
  {
   "cell_type": "code",
   "execution_count": 27,
   "id": "cfc48a76",
   "metadata": {
    "execution": {
     "iopub.execute_input": "2025-09-06T09:26:10.894670Z",
     "iopub.status.busy": "2025-09-06T09:26:10.894060Z",
     "iopub.status.idle": "2025-09-06T09:26:10.899499Z",
     "shell.execute_reply": "2025-09-06T09:26:10.898699Z"
    },
    "papermill": {
     "duration": 0.023531,
     "end_time": "2025-09-06T09:26:10.900955",
     "exception": false,
     "start_time": "2025-09-06T09:26:10.877424",
     "status": "completed"
    },
    "tags": []
   },
   "outputs": [
    {
     "data": {
      "text/plain": [
       "'int64'"
      ]
     },
     "execution_count": 27,
     "metadata": {},
     "output_type": "execute_result"
    }
   ],
   "source": [
    "a = np.array([1,2,3])  #Name of data type\n",
    "a.dtype.name"
   ]
  },
  {
   "cell_type": "code",
   "execution_count": 28,
   "id": "df6528ac",
   "metadata": {
    "execution": {
     "iopub.execute_input": "2025-09-06T09:26:10.933963Z",
     "iopub.status.busy": "2025-09-06T09:26:10.933649Z",
     "iopub.status.idle": "2025-09-06T09:26:10.939683Z",
     "shell.execute_reply": "2025-09-06T09:26:10.938854Z"
    },
    "papermill": {
     "duration": 0.024042,
     "end_time": "2025-09-06T09:26:10.941035",
     "exception": false,
     "start_time": "2025-09-06T09:26:10.916993",
     "status": "completed"
    },
    "tags": []
   },
   "outputs": [
    {
     "data": {
      "text/plain": [
       "'int64'"
      ]
     },
     "execution_count": 28,
     "metadata": {},
     "output_type": "execute_result"
    }
   ],
   "source": [
    "a = np.array([[1,2,3],[4,5,6]])\n",
    "a.dtype.name"
   ]
  },
  {
   "cell_type": "code",
   "execution_count": 29,
   "id": "a13e501b",
   "metadata": {
    "execution": {
     "iopub.execute_input": "2025-09-06T09:26:10.974689Z",
     "iopub.status.busy": "2025-09-06T09:26:10.974393Z",
     "iopub.status.idle": "2025-09-06T09:26:10.979969Z",
     "shell.execute_reply": "2025-09-06T09:26:10.979280Z"
    },
    "papermill": {
     "duration": 0.023607,
     "end_time": "2025-09-06T09:26:10.981244",
     "exception": false,
     "start_time": "2025-09-06T09:26:10.957637",
     "status": "completed"
    },
    "tags": []
   },
   "outputs": [
    {
     "data": {
      "text/plain": [
       "'int64'"
      ]
     },
     "execution_count": 29,
     "metadata": {},
     "output_type": "execute_result"
    }
   ],
   "source": [
    "a = np.array([[[1,2,3],[4,5,6]],[[7,8,9],[10,11,12]]])\n",
    "a.dtype.name"
   ]
  },
  {
   "cell_type": "code",
   "execution_count": 30,
   "id": "be0714c5",
   "metadata": {
    "execution": {
     "iopub.execute_input": "2025-09-06T09:26:11.014946Z",
     "iopub.status.busy": "2025-09-06T09:26:11.014104Z",
     "iopub.status.idle": "2025-09-06T09:26:11.019726Z",
     "shell.execute_reply": "2025-09-06T09:26:11.019085Z"
    },
    "papermill": {
     "duration": 0.02388,
     "end_time": "2025-09-06T09:26:11.021041",
     "exception": false,
     "start_time": "2025-09-06T09:26:10.997161",
     "status": "completed"
    },
    "tags": []
   },
   "outputs": [
    {
     "data": {
      "text/plain": [
       "array([1., 2., 3.])"
      ]
     },
     "execution_count": 30,
     "metadata": {},
     "output_type": "execute_result"
    }
   ],
   "source": [
    "a = np.array([1,2,3])   #Convert an array to a different type\n",
    "a.astype(float)"
   ]
  },
  {
   "cell_type": "code",
   "execution_count": 31,
   "id": "781ff0a0",
   "metadata": {
    "execution": {
     "iopub.execute_input": "2025-09-06T09:26:11.054852Z",
     "iopub.status.busy": "2025-09-06T09:26:11.054158Z",
     "iopub.status.idle": "2025-09-06T09:26:11.059628Z",
     "shell.execute_reply": "2025-09-06T09:26:11.059021Z"
    },
    "papermill": {
     "duration": 0.023732,
     "end_time": "2025-09-06T09:26:11.060977",
     "exception": false,
     "start_time": "2025-09-06T09:26:11.037245",
     "status": "completed"
    },
    "tags": []
   },
   "outputs": [
    {
     "data": {
      "text/plain": [
       "array([[1., 2., 3.],\n",
       "       [4., 5., 6.]])"
      ]
     },
     "execution_count": 31,
     "metadata": {},
     "output_type": "execute_result"
    }
   ],
   "source": [
    "a = np.array([[1,2,3],[4,5,6]])\n",
    "a.astype(float)"
   ]
  },
  {
   "cell_type": "code",
   "execution_count": 32,
   "id": "abf62c68",
   "metadata": {
    "execution": {
     "iopub.execute_input": "2025-09-06T09:26:11.095477Z",
     "iopub.status.busy": "2025-09-06T09:26:11.094657Z",
     "iopub.status.idle": "2025-09-06T09:26:11.100794Z",
     "shell.execute_reply": "2025-09-06T09:26:11.100051Z"
    },
    "papermill": {
     "duration": 0.02463,
     "end_time": "2025-09-06T09:26:11.102086",
     "exception": false,
     "start_time": "2025-09-06T09:26:11.077456",
     "status": "completed"
    },
    "tags": []
   },
   "outputs": [
    {
     "data": {
      "text/plain": [
       "array([[[ 1.,  2.,  3.],\n",
       "        [ 4.,  5.,  6.]],\n",
       "\n",
       "       [[ 7.,  8.,  9.],\n",
       "        [10., 11., 12.]]])"
      ]
     },
     "execution_count": 32,
     "metadata": {},
     "output_type": "execute_result"
    }
   ],
   "source": [
    "a = np.array([[[1,2,3],[4,5,6]],[[7,8,9],[10,11,12]]])\n",
    "a.astype(float)"
   ]
  },
  {
   "cell_type": "markdown",
   "id": "819d4452",
   "metadata": {
    "papermill": {
     "duration": 0.015903,
     "end_time": "2025-09-06T09:26:11.134489",
     "exception": false,
     "start_time": "2025-09-06T09:26:11.118586",
     "status": "completed"
    },
    "tags": []
   },
   "source": [
    "# 4.Data Types:"
   ]
  },
  {
   "cell_type": "code",
   "execution_count": 33,
   "id": "b7bd89ce",
   "metadata": {
    "execution": {
     "iopub.execute_input": "2025-09-06T09:26:11.168388Z",
     "iopub.status.busy": "2025-09-06T09:26:11.167744Z",
     "iopub.status.idle": "2025-09-06T09:26:11.173285Z",
     "shell.execute_reply": "2025-09-06T09:26:11.172494Z"
    },
    "papermill": {
     "duration": 0.023993,
     "end_time": "2025-09-06T09:26:11.174790",
     "exception": false,
     "start_time": "2025-09-06T09:26:11.150797",
     "status": "completed"
    },
    "tags": []
   },
   "outputs": [
    {
     "data": {
      "text/plain": [
       "dtype('int64')"
      ]
     },
     "execution_count": 33,
     "metadata": {},
     "output_type": "execute_result"
    }
   ],
   "source": [
    "import numpy as np   #Signed 64-bit integer typres\n",
    "a = np.array(([1,2,3]), dtype=np.int64)\n",
    "a\n",
    "a.dtype"
   ]
  },
  {
   "cell_type": "code",
   "execution_count": 34,
   "id": "d98ee9e5",
   "metadata": {
    "execution": {
     "iopub.execute_input": "2025-09-06T09:26:11.209369Z",
     "iopub.status.busy": "2025-09-06T09:26:11.209106Z",
     "iopub.status.idle": "2025-09-06T09:26:11.215157Z",
     "shell.execute_reply": "2025-09-06T09:26:11.214448Z"
    },
    "papermill": {
     "duration": 0.025339,
     "end_time": "2025-09-06T09:26:11.216663",
     "exception": false,
     "start_time": "2025-09-06T09:26:11.191324",
     "status": "completed"
    },
    "tags": []
   },
   "outputs": [
    {
     "data": {
      "text/plain": [
       "(array([10., 20., 30.], dtype=float32), dtype('float32'))"
      ]
     },
     "execution_count": 34,
     "metadata": {},
     "output_type": "execute_result"
    }
   ],
   "source": [
    "a = np.array([10,20,30],dtype=np.float32)\n",
    "(a,a.dtype)"
   ]
  },
  {
   "cell_type": "markdown",
   "id": "161754f2",
   "metadata": {
    "papermill": {
     "duration": 0.016151,
     "end_time": "2025-09-06T09:26:11.250377",
     "exception": false,
     "start_time": "2025-09-06T09:26:11.234226",
     "status": "completed"
    },
    "tags": []
   },
   "source": [
    "# 5.Array Mathematics:"
   ]
  },
  {
   "cell_type": "code",
   "execution_count": 35,
   "id": "719b706e",
   "metadata": {
    "execution": {
     "iopub.execute_input": "2025-09-06T09:26:11.285022Z",
     "iopub.status.busy": "2025-09-06T09:26:11.284375Z",
     "iopub.status.idle": "2025-09-06T09:26:11.288848Z",
     "shell.execute_reply": "2025-09-06T09:26:11.288057Z"
    },
    "papermill": {
     "duration": 0.023422,
     "end_time": "2025-09-06T09:26:11.290452",
     "exception": false,
     "start_time": "2025-09-06T09:26:11.267030",
     "status": "completed"
    },
    "tags": []
   },
   "outputs": [],
   "source": [
    "import numpy as np\n",
    "\n",
    "a = np.array([[1, 2, 3],\n",
    "              [4, 5, 6]])\n",
    "b = np.array([[1.5, 2.0, 3.0],\n",
    "              [1.0, 1.25, 1.5]])"
   ]
  },
  {
   "cell_type": "code",
   "execution_count": 36,
   "id": "603dc9be",
   "metadata": {
    "execution": {
     "iopub.execute_input": "2025-09-06T09:26:11.325107Z",
     "iopub.status.busy": "2025-09-06T09:26:11.324480Z",
     "iopub.status.idle": "2025-09-06T09:26:11.329985Z",
     "shell.execute_reply": "2025-09-06T09:26:11.329159Z"
    },
    "papermill": {
     "duration": 0.024395,
     "end_time": "2025-09-06T09:26:11.331432",
     "exception": false,
     "start_time": "2025-09-06T09:26:11.307037",
     "status": "completed"
    },
    "tags": []
   },
   "outputs": [
    {
     "data": {
      "text/plain": [
       "array([[-0.5 ,  0.  ,  0.  ],\n",
       "       [ 3.  ,  3.75,  4.5 ]])"
      ]
     },
     "execution_count": 36,
     "metadata": {},
     "output_type": "execute_result"
    }
   ],
   "source": [
    "g = a-b   #Subtraction M1\n",
    "g"
   ]
  },
  {
   "cell_type": "code",
   "execution_count": 37,
   "id": "d756f263",
   "metadata": {
    "execution": {
     "iopub.execute_input": "2025-09-06T09:26:11.367147Z",
     "iopub.status.busy": "2025-09-06T09:26:11.366403Z",
     "iopub.status.idle": "2025-09-06T09:26:11.371886Z",
     "shell.execute_reply": "2025-09-06T09:26:11.371138Z"
    },
    "papermill": {
     "duration": 0.024346,
     "end_time": "2025-09-06T09:26:11.373268",
     "exception": false,
     "start_time": "2025-09-06T09:26:11.348922",
     "status": "completed"
    },
    "tags": []
   },
   "outputs": [
    {
     "data": {
      "text/plain": [
       "array([[-0.5 ,  0.  ,  0.  ],\n",
       "       [ 3.  ,  3.75,  4.5 ]])"
      ]
     },
     "execution_count": 37,
     "metadata": {},
     "output_type": "execute_result"
    }
   ],
   "source": [
    "np.subtract(a, b)  #Subtraction M2"
   ]
  },
  {
   "cell_type": "code",
   "execution_count": 38,
   "id": "9a57f6cd",
   "metadata": {
    "execution": {
     "iopub.execute_input": "2025-09-06T09:26:11.408263Z",
     "iopub.status.busy": "2025-09-06T09:26:11.407522Z",
     "iopub.status.idle": "2025-09-06T09:26:11.412814Z",
     "shell.execute_reply": "2025-09-06T09:26:11.412069Z"
    },
    "papermill": {
     "duration": 0.024345,
     "end_time": "2025-09-06T09:26:11.414521",
     "exception": false,
     "start_time": "2025-09-06T09:26:11.390176",
     "status": "completed"
    },
    "tags": []
   },
   "outputs": [
    {
     "data": {
      "text/plain": [
       "array([[2.5 , 4.  , 6.  ],\n",
       "       [5.  , 6.25, 7.5 ]])"
      ]
     },
     "execution_count": 38,
     "metadata": {},
     "output_type": "execute_result"
    }
   ],
   "source": [
    "g = a+b    #Addition M1\n",
    "g"
   ]
  },
  {
   "cell_type": "code",
   "execution_count": 39,
   "id": "6db079e2",
   "metadata": {
    "execution": {
     "iopub.execute_input": "2025-09-06T09:26:11.450036Z",
     "iopub.status.busy": "2025-09-06T09:26:11.449726Z",
     "iopub.status.idle": "2025-09-06T09:26:11.455375Z",
     "shell.execute_reply": "2025-09-06T09:26:11.454626Z"
    },
    "papermill": {
     "duration": 0.024666,
     "end_time": "2025-09-06T09:26:11.456771",
     "exception": false,
     "start_time": "2025-09-06T09:26:11.432105",
     "status": "completed"
    },
    "tags": []
   },
   "outputs": [
    {
     "data": {
      "text/plain": [
       "array([[2.5 , 4.  , 6.  ],\n",
       "       [5.  , 6.25, 7.5 ]])"
      ]
     },
     "execution_count": 39,
     "metadata": {},
     "output_type": "execute_result"
    }
   ],
   "source": [
    "np.add(b,a)   #Addition M2"
   ]
  },
  {
   "cell_type": "code",
   "execution_count": 40,
   "id": "f0bcef9a",
   "metadata": {
    "execution": {
     "iopub.execute_input": "2025-09-06T09:26:11.492816Z",
     "iopub.status.busy": "2025-09-06T09:26:11.492517Z",
     "iopub.status.idle": "2025-09-06T09:26:11.498255Z",
     "shell.execute_reply": "2025-09-06T09:26:11.497453Z"
    },
    "papermill": {
     "duration": 0.0252,
     "end_time": "2025-09-06T09:26:11.499577",
     "exception": false,
     "start_time": "2025-09-06T09:26:11.474377",
     "status": "completed"
    },
    "tags": []
   },
   "outputs": [
    {
     "data": {
      "text/plain": [
       "array([[0.66666667, 1.        , 1.        ],\n",
       "       [4.        , 4.        , 4.        ]])"
      ]
     },
     "execution_count": 40,
     "metadata": {},
     "output_type": "execute_result"
    }
   ],
   "source": [
    "g = a/b   #Division M1\n",
    "g"
   ]
  },
  {
   "cell_type": "code",
   "execution_count": 41,
   "id": "5b4dfc33",
   "metadata": {
    "execution": {
     "iopub.execute_input": "2025-09-06T09:26:11.534736Z",
     "iopub.status.busy": "2025-09-06T09:26:11.534455Z",
     "iopub.status.idle": "2025-09-06T09:26:11.540378Z",
     "shell.execute_reply": "2025-09-06T09:26:11.539695Z"
    },
    "papermill": {
     "duration": 0.024971,
     "end_time": "2025-09-06T09:26:11.541642",
     "exception": false,
     "start_time": "2025-09-06T09:26:11.516671",
     "status": "completed"
    },
    "tags": []
   },
   "outputs": [
    {
     "data": {
      "text/plain": [
       "array([[0.66666667, 1.        , 1.        ],\n",
       "       [4.        , 4.        , 4.        ]])"
      ]
     },
     "execution_count": 41,
     "metadata": {},
     "output_type": "execute_result"
    }
   ],
   "source": [
    "np.divide(a,b)   #Division M3"
   ]
  },
  {
   "cell_type": "code",
   "execution_count": 42,
   "id": "8e7295a6",
   "metadata": {
    "execution": {
     "iopub.execute_input": "2025-09-06T09:26:11.576317Z",
     "iopub.status.busy": "2025-09-06T09:26:11.576034Z",
     "iopub.status.idle": "2025-09-06T09:26:11.581400Z",
     "shell.execute_reply": "2025-09-06T09:26:11.580667Z"
    },
    "papermill": {
     "duration": 0.024282,
     "end_time": "2025-09-06T09:26:11.582741",
     "exception": false,
     "start_time": "2025-09-06T09:26:11.558459",
     "status": "completed"
    },
    "tags": []
   },
   "outputs": [
    {
     "data": {
      "text/plain": [
       "array([[1.5 , 4.  , 9.  ],\n",
       "       [4.  , 6.25, 9.  ]])"
      ]
     },
     "execution_count": 42,
     "metadata": {},
     "output_type": "execute_result"
    }
   ],
   "source": [
    "g = a*b  #Multiplication M1\n",
    "g"
   ]
  },
  {
   "cell_type": "code",
   "execution_count": 43,
   "id": "fe44cdae",
   "metadata": {
    "execution": {
     "iopub.execute_input": "2025-09-06T09:26:11.618153Z",
     "iopub.status.busy": "2025-09-06T09:26:11.617840Z",
     "iopub.status.idle": "2025-09-06T09:26:11.623196Z",
     "shell.execute_reply": "2025-09-06T09:26:11.622519Z"
    },
    "papermill": {
     "duration": 0.024687,
     "end_time": "2025-09-06T09:26:11.624645",
     "exception": false,
     "start_time": "2025-09-06T09:26:11.599958",
     "status": "completed"
    },
    "tags": []
   },
   "outputs": [
    {
     "data": {
      "text/plain": [
       "array([[1.5 , 4.  , 9.  ],\n",
       "       [4.  , 6.25, 9.  ]])"
      ]
     },
     "execution_count": 43,
     "metadata": {},
     "output_type": "execute_result"
    }
   ],
   "source": [
    "np.multiply(a,b)   #Multiplication M2"
   ]
  },
  {
   "cell_type": "code",
   "execution_count": 44,
   "id": "376681e9",
   "metadata": {
    "execution": {
     "iopub.execute_input": "2025-09-06T09:26:11.660529Z",
     "iopub.status.busy": "2025-09-06T09:26:11.660247Z",
     "iopub.status.idle": "2025-09-06T09:26:11.665993Z",
     "shell.execute_reply": "2025-09-06T09:26:11.665291Z"
    },
    "papermill": {
     "duration": 0.024707,
     "end_time": "2025-09-06T09:26:11.667295",
     "exception": false,
     "start_time": "2025-09-06T09:26:11.642588",
     "status": "completed"
    },
    "tags": []
   },
   "outputs": [
    {
     "data": {
      "text/plain": [
       "array([[ 4.48168907,  7.3890561 , 20.08553692],\n",
       "       [ 2.71828183,  3.49034296,  4.48168907]])"
      ]
     },
     "execution_count": 44,
     "metadata": {},
     "output_type": "execute_result"
    }
   ],
   "source": [
    "np.exp(b)    #Exponentiation"
   ]
  },
  {
   "cell_type": "code",
   "execution_count": 45,
   "id": "85e20874",
   "metadata": {
    "execution": {
     "iopub.execute_input": "2025-09-06T09:26:11.703527Z",
     "iopub.status.busy": "2025-09-06T09:26:11.702743Z",
     "iopub.status.idle": "2025-09-06T09:26:11.708348Z",
     "shell.execute_reply": "2025-09-06T09:26:11.707626Z"
    },
    "papermill": {
     "duration": 0.024894,
     "end_time": "2025-09-06T09:26:11.709717",
     "exception": false,
     "start_time": "2025-09-06T09:26:11.684823",
     "status": "completed"
    },
    "tags": []
   },
   "outputs": [
    {
     "data": {
      "text/plain": [
       "array([[1.22474487, 1.41421356, 1.73205081],\n",
       "       [1.        , 1.11803399, 1.22474487]])"
      ]
     },
     "execution_count": 45,
     "metadata": {},
     "output_type": "execute_result"
    }
   ],
   "source": [
    "np.sqrt(b)   #Square root"
   ]
  },
  {
   "cell_type": "code",
   "execution_count": 46,
   "id": "7896a853",
   "metadata": {
    "execution": {
     "iopub.execute_input": "2025-09-06T09:26:11.745648Z",
     "iopub.status.busy": "2025-09-06T09:26:11.745365Z",
     "iopub.status.idle": "2025-09-06T09:26:11.765493Z",
     "shell.execute_reply": "2025-09-06T09:26:11.764783Z"
    },
    "papermill": {
     "duration": 0.039754,
     "end_time": "2025-09-06T09:26:11.766760",
     "exception": false,
     "start_time": "2025-09-06T09:26:11.727006",
     "status": "completed"
    },
    "tags": []
   },
   "outputs": [
    {
     "data": {
      "text/plain": [
       "array([[ 0.84147098,  0.90929743,  0.14112001],\n",
       "       [-0.7568025 , -0.95892427, -0.2794155 ]])"
      ]
     },
     "execution_count": 46,
     "metadata": {},
     "output_type": "execute_result"
    }
   ],
   "source": [
    "np.sin(a)  #Sine of each element in a"
   ]
  },
  {
   "cell_type": "code",
   "execution_count": 47,
   "id": "26dff993",
   "metadata": {
    "execution": {
     "iopub.execute_input": "2025-09-06T09:26:11.803479Z",
     "iopub.status.busy": "2025-09-06T09:26:11.803173Z",
     "iopub.status.idle": "2025-09-06T09:26:11.816316Z",
     "shell.execute_reply": "2025-09-06T09:26:11.815500Z"
    },
    "papermill": {
     "duration": 0.033619,
     "end_time": "2025-09-06T09:26:11.817756",
     "exception": false,
     "start_time": "2025-09-06T09:26:11.784137",
     "status": "completed"
    },
    "tags": []
   },
   "outputs": [
    {
     "data": {
      "text/plain": [
       "array([[ 0.0707372 , -0.41614684, -0.9899925 ],\n",
       "       [ 0.54030231,  0.31532236,  0.0707372 ]])"
      ]
     },
     "execution_count": 47,
     "metadata": {},
     "output_type": "execute_result"
    }
   ],
   "source": [
    "np.cos(b)  #Cosine of each element in b"
   ]
  },
  {
   "cell_type": "code",
   "execution_count": 48,
   "id": "06770335",
   "metadata": {
    "execution": {
     "iopub.execute_input": "2025-09-06T09:26:11.853498Z",
     "iopub.status.busy": "2025-09-06T09:26:11.853231Z",
     "iopub.status.idle": "2025-09-06T09:26:11.871603Z",
     "shell.execute_reply": "2025-09-06T09:26:11.870805Z"
    },
    "papermill": {
     "duration": 0.038012,
     "end_time": "2025-09-06T09:26:11.873196",
     "exception": false,
     "start_time": "2025-09-06T09:26:11.835184",
     "status": "completed"
    },
    "tags": []
   },
   "outputs": [
    {
     "data": {
      "text/plain": [
       "array([[0.        , 0.69314718, 1.09861229],\n",
       "       [1.38629436, 1.60943791, 1.79175947]])"
      ]
     },
     "execution_count": 48,
     "metadata": {},
     "output_type": "execute_result"
    }
   ],
   "source": [
    "np.log(a)  #Natural logarithm (ln) of each element in a"
   ]
  },
  {
   "cell_type": "code",
   "execution_count": 49,
   "id": "b5e1c065",
   "metadata": {
    "execution": {
     "iopub.execute_input": "2025-09-06T09:26:11.911057Z",
     "iopub.status.busy": "2025-09-06T09:26:11.910544Z",
     "iopub.status.idle": "2025-09-06T09:26:11.916557Z",
     "shell.execute_reply": "2025-09-06T09:26:11.915884Z"
    },
    "papermill": {
     "duration": 0.026531,
     "end_time": "2025-09-06T09:26:11.917900",
     "exception": false,
     "start_time": "2025-09-06T09:26:11.891369",
     "status": "completed"
    },
    "tags": []
   },
   "outputs": [
    {
     "data": {
      "text/plain": [
       "array([[3, 3],\n",
       "       [7, 7]])"
      ]
     },
     "execution_count": 49,
     "metadata": {},
     "output_type": "execute_result"
    }
   ],
   "source": [
    "c = np.array([[1,2],  #Matrix Multiplication \n",
    "              [3,4]])\n",
    "d = np.array([[1,1],\n",
    "              [1,1]])\n",
    "c.dot(d)"
   ]
  },
  {
   "cell_type": "markdown",
   "id": "863918b6",
   "metadata": {
    "papermill": {
     "duration": 0.017956,
     "end_time": "2025-09-06T09:26:11.953444",
     "exception": false,
     "start_time": "2025-09-06T09:26:11.935488",
     "status": "completed"
    },
    "tags": []
   },
   "source": [
    "### 6.Comparison\n"
   ]
  },
  {
   "cell_type": "code",
   "execution_count": 50,
   "id": "a1b238ea",
   "metadata": {
    "execution": {
     "iopub.execute_input": "2025-09-06T09:26:11.990155Z",
     "iopub.status.busy": "2025-09-06T09:26:11.989799Z",
     "iopub.status.idle": "2025-09-06T09:26:11.994434Z",
     "shell.execute_reply": "2025-09-06T09:26:11.993748Z"
    },
    "papermill": {
     "duration": 0.024262,
     "end_time": "2025-09-06T09:26:11.995602",
     "exception": false,
     "start_time": "2025-09-06T09:26:11.971340",
     "status": "completed"
    },
    "tags": []
   },
   "outputs": [],
   "source": [
    "import numpy as np\n",
    "\n",
    "a = np.array([[1, 2, 3],\n",
    "              [4, 5, 6]])\n",
    "\n",
    "b = np.array([[1, 0, 3],\n",
    "              [4, 7, 6]])"
   ]
  },
  {
   "cell_type": "code",
   "execution_count": 51,
   "id": "f265686c",
   "metadata": {
    "execution": {
     "iopub.execute_input": "2025-09-06T09:26:12.032094Z",
     "iopub.status.busy": "2025-09-06T09:26:12.031768Z",
     "iopub.status.idle": "2025-09-06T09:26:12.042959Z",
     "shell.execute_reply": "2025-09-06T09:26:12.042236Z"
    },
    "papermill": {
     "duration": 0.030923,
     "end_time": "2025-09-06T09:26:12.044356",
     "exception": false,
     "start_time": "2025-09-06T09:26:12.013433",
     "status": "completed"
    },
    "tags": []
   },
   "outputs": [
    {
     "data": {
      "text/plain": [
       "array([[ True, False,  True],\n",
       "       [ True, False,  True]])"
      ]
     },
     "execution_count": 51,
     "metadata": {},
     "output_type": "execute_result"
    }
   ],
   "source": [
    "a == b   #Element-wise comparison"
   ]
  },
  {
   "cell_type": "code",
   "execution_count": 52,
   "id": "7b9e8fc1",
   "metadata": {
    "execution": {
     "iopub.execute_input": "2025-09-06T09:26:12.082341Z",
     "iopub.status.busy": "2025-09-06T09:26:12.082048Z",
     "iopub.status.idle": "2025-09-06T09:26:12.087607Z",
     "shell.execute_reply": "2025-09-06T09:26:12.086839Z"
    },
    "papermill": {
     "duration": 0.026278,
     "end_time": "2025-09-06T09:26:12.089024",
     "exception": false,
     "start_time": "2025-09-06T09:26:12.062746",
     "status": "completed"
    },
    "tags": []
   },
   "outputs": [
    {
     "data": {
      "text/plain": [
       "array([[ True, False, False],\n",
       "       [False, False, False]])"
      ]
     },
     "execution_count": 52,
     "metadata": {},
     "output_type": "execute_result"
    }
   ],
   "source": [
    "a<2     #Element-wise condition"
   ]
  },
  {
   "cell_type": "code",
   "execution_count": 53,
   "id": "0c1daaff",
   "metadata": {
    "execution": {
     "iopub.execute_input": "2025-09-06T09:26:12.127075Z",
     "iopub.status.busy": "2025-09-06T09:26:12.126756Z",
     "iopub.status.idle": "2025-09-06T09:26:12.132700Z",
     "shell.execute_reply": "2025-09-06T09:26:12.132013Z"
    },
    "papermill": {
     "duration": 0.026088,
     "end_time": "2025-09-06T09:26:12.134084",
     "exception": false,
     "start_time": "2025-09-06T09:26:12.107996",
     "status": "completed"
    },
    "tags": []
   },
   "outputs": [
    {
     "data": {
      "text/plain": [
       "True"
      ]
     },
     "execution_count": 53,
     "metadata": {},
     "output_type": "execute_result"
    }
   ],
   "source": [
    "a = np.array([[1, 2, 3],    #Array-wise comparison\n",
    "              [4, 5, 6]])\n",
    "\n",
    "b = np.array([[1, 2, 3],\n",
    "              [4, 5, 6]])\n",
    "\n",
    "\n",
    "np.array_equal(a,b)"
   ]
  },
  {
   "cell_type": "markdown",
   "id": "d0386cfa",
   "metadata": {
    "papermill": {
     "duration": 0.017545,
     "end_time": "2025-09-06T09:26:12.169797",
     "exception": false,
     "start_time": "2025-09-06T09:26:12.152252",
     "status": "completed"
    },
    "tags": []
   },
   "source": [
    "# 7.Aggregate Functions:"
   ]
  },
  {
   "cell_type": "code",
   "execution_count": 54,
   "id": "ac9981c4",
   "metadata": {
    "execution": {
     "iopub.execute_input": "2025-09-06T09:26:12.207071Z",
     "iopub.status.busy": "2025-09-06T09:26:12.206613Z",
     "iopub.status.idle": "2025-09-06T09:26:12.211393Z",
     "shell.execute_reply": "2025-09-06T09:26:12.210682Z"
    },
    "papermill": {
     "duration": 0.024947,
     "end_time": "2025-09-06T09:26:12.212681",
     "exception": false,
     "start_time": "2025-09-06T09:26:12.187734",
     "status": "completed"
    },
    "tags": []
   },
   "outputs": [],
   "source": [
    "a = np.array([[1, 2, 3],\n",
    "              [4, 5, 6]])\n",
    "\n",
    "b = np.array([[1, 0, 3],\n",
    "              [4, 7, 6]])"
   ]
  },
  {
   "cell_type": "code",
   "execution_count": 55,
   "id": "58f1a28b",
   "metadata": {
    "execution": {
     "iopub.execute_input": "2025-09-06T09:26:12.251282Z",
     "iopub.status.busy": "2025-09-06T09:26:12.250981Z",
     "iopub.status.idle": "2025-09-06T09:26:12.257654Z",
     "shell.execute_reply": "2025-09-06T09:26:12.256841Z"
    },
    "papermill": {
     "duration": 0.028292,
     "end_time": "2025-09-06T09:26:12.259046",
     "exception": false,
     "start_time": "2025-09-06T09:26:12.230754",
     "status": "completed"
    },
    "tags": []
   },
   "outputs": [
    {
     "data": {
      "text/plain": [
       "21"
      ]
     },
     "execution_count": 55,
     "metadata": {},
     "output_type": "execute_result"
    }
   ],
   "source": [
    "a.sum()   #Array-wise sum"
   ]
  },
  {
   "cell_type": "code",
   "execution_count": 56,
   "id": "0024197e",
   "metadata": {
    "execution": {
     "iopub.execute_input": "2025-09-06T09:26:12.296677Z",
     "iopub.status.busy": "2025-09-06T09:26:12.296076Z",
     "iopub.status.idle": "2025-09-06T09:26:12.302028Z",
     "shell.execute_reply": "2025-09-06T09:26:12.301251Z"
    },
    "papermill": {
     "duration": 0.026523,
     "end_time": "2025-09-06T09:26:12.303665",
     "exception": false,
     "start_time": "2025-09-06T09:26:12.277142",
     "status": "completed"
    },
    "tags": []
   },
   "outputs": [
    {
     "data": {
      "text/plain": [
       "1"
      ]
     },
     "execution_count": 56,
     "metadata": {},
     "output_type": "execute_result"
    }
   ],
   "source": [
    "a.min()  #Array-wise minimum value"
   ]
  },
  {
   "cell_type": "code",
   "execution_count": 57,
   "id": "4fc0c48a",
   "metadata": {
    "execution": {
     "iopub.execute_input": "2025-09-06T09:26:12.342339Z",
     "iopub.status.busy": "2025-09-06T09:26:12.342051Z",
     "iopub.status.idle": "2025-09-06T09:26:12.347386Z",
     "shell.execute_reply": "2025-09-06T09:26:12.346696Z"
    },
    "papermill": {
     "duration": 0.026011,
     "end_time": "2025-09-06T09:26:12.348711",
     "exception": false,
     "start_time": "2025-09-06T09:26:12.322700",
     "status": "completed"
    },
    "tags": []
   },
   "outputs": [
    {
     "data": {
      "text/plain": [
       "array([4, 7, 6])"
      ]
     },
     "execution_count": 57,
     "metadata": {},
     "output_type": "execute_result"
    }
   ],
   "source": [
    "b.max(axis=0)   #Maximum value of an array row"
   ]
  },
  {
   "cell_type": "code",
   "execution_count": 58,
   "id": "85c71e0a",
   "metadata": {
    "execution": {
     "iopub.execute_input": "2025-09-06T09:26:12.385997Z",
     "iopub.status.busy": "2025-09-06T09:26:12.385670Z",
     "iopub.status.idle": "2025-09-06T09:26:12.390967Z",
     "shell.execute_reply": "2025-09-06T09:26:12.390161Z"
    },
    "papermill": {
     "duration": 0.02553,
     "end_time": "2025-09-06T09:26:12.392344",
     "exception": false,
     "start_time": "2025-09-06T09:26:12.366814",
     "status": "completed"
    },
    "tags": []
   },
   "outputs": [
    {
     "data": {
      "text/plain": [
       "6"
      ]
     },
     "execution_count": 58,
     "metadata": {},
     "output_type": "execute_result"
    }
   ],
   "source": [
    "a.max()"
   ]
  },
  {
   "cell_type": "code",
   "execution_count": 59,
   "id": "ddb04e34",
   "metadata": {
    "execution": {
     "iopub.execute_input": "2025-09-06T09:26:12.430611Z",
     "iopub.status.busy": "2025-09-06T09:26:12.429792Z",
     "iopub.status.idle": "2025-09-06T09:26:12.435689Z",
     "shell.execute_reply": "2025-09-06T09:26:12.434831Z"
    },
    "papermill": {
     "duration": 0.026464,
     "end_time": "2025-09-06T09:26:12.437038",
     "exception": false,
     "start_time": "2025-09-06T09:26:12.410574",
     "status": "completed"
    },
    "tags": []
   },
   "outputs": [
    {
     "data": {
      "text/plain": [
       "array([[ 1,  1,  4],\n",
       "       [ 4, 11, 17]])"
      ]
     },
     "execution_count": 59,
     "metadata": {},
     "output_type": "execute_result"
    }
   ],
   "source": [
    "b.cumsum(axis=1)  #Cumulative sum"
   ]
  },
  {
   "cell_type": "code",
   "execution_count": 60,
   "id": "70097ca6",
   "metadata": {
    "execution": {
     "iopub.execute_input": "2025-09-06T09:26:12.475621Z",
     "iopub.status.busy": "2025-09-06T09:26:12.474904Z",
     "iopub.status.idle": "2025-09-06T09:26:12.480484Z",
     "shell.execute_reply": "2025-09-06T09:26:12.479711Z"
    },
    "papermill": {
     "duration": 0.026148,
     "end_time": "2025-09-06T09:26:12.481826",
     "exception": false,
     "start_time": "2025-09-06T09:26:12.455678",
     "status": "completed"
    },
    "tags": []
   },
   "outputs": [
    {
     "data": {
      "text/plain": [
       "3.5"
      ]
     },
     "execution_count": 60,
     "metadata": {},
     "output_type": "execute_result"
    }
   ],
   "source": [
    "a = np.array([[1,2,3],   #Mean\n",
    "            [4,5,6]])\n",
    "a.mean()"
   ]
  },
  {
   "cell_type": "code",
   "execution_count": 61,
   "id": "0a16ec38",
   "metadata": {
    "execution": {
     "iopub.execute_input": "2025-09-06T09:26:12.519739Z",
     "iopub.status.busy": "2025-09-06T09:26:12.519444Z",
     "iopub.status.idle": "2025-09-06T09:26:12.526733Z",
     "shell.execute_reply": "2025-09-06T09:26:12.525937Z"
    },
    "papermill": {
     "duration": 0.027886,
     "end_time": "2025-09-06T09:26:12.528140",
     "exception": false,
     "start_time": "2025-09-06T09:26:12.500254",
     "status": "completed"
    },
    "tags": []
   },
   "outputs": [
    {
     "data": {
      "text/plain": [
       "4.5"
      ]
     },
     "execution_count": 61,
     "metadata": {},
     "output_type": "execute_result"
    }
   ],
   "source": [
    "a = np.array([7,4,9,5,3,0,1,6,2,8]) #Median\n",
    "np.median(a)"
   ]
  },
  {
   "cell_type": "code",
   "execution_count": 62,
   "id": "ee011e10",
   "metadata": {
    "execution": {
     "iopub.execute_input": "2025-09-06T09:26:12.565728Z",
     "iopub.status.busy": "2025-09-06T09:26:12.565453Z",
     "iopub.status.idle": "2025-09-06T09:26:12.578684Z",
     "shell.execute_reply": "2025-09-06T09:26:12.577856Z"
    },
    "papermill": {
     "duration": 0.033749,
     "end_time": "2025-09-06T09:26:12.580157",
     "exception": false,
     "start_time": "2025-09-06T09:26:12.546408",
     "status": "completed"
    },
    "tags": []
   },
   "outputs": [
    {
     "data": {
      "text/plain": [
       "array([[1., 1.],\n",
       "       [1., 1.]])"
      ]
     },
     "execution_count": 62,
     "metadata": {},
     "output_type": "execute_result"
    }
   ],
   "source": [
    "x = np.array([1, 2, 3])  #Correlational coefficient\n",
    "y = np.array([2, 4, 6])\n",
    "\n",
    "np.corrcoef(x, y)"
   ]
  },
  {
   "cell_type": "code",
   "execution_count": 63,
   "id": "23768894",
   "metadata": {
    "execution": {
     "iopub.execute_input": "2025-09-06T09:26:12.617514Z",
     "iopub.status.busy": "2025-09-06T09:26:12.617241Z",
     "iopub.status.idle": "2025-09-06T09:26:12.622761Z",
     "shell.execute_reply": "2025-09-06T09:26:12.622062Z"
    },
    "papermill": {
     "duration": 0.025758,
     "end_time": "2025-09-06T09:26:12.624103",
     "exception": false,
     "start_time": "2025-09-06T09:26:12.598345",
     "status": "completed"
    },
    "tags": []
   },
   "outputs": [
    {
     "data": {
      "text/plain": [
       "2.8136571693556887"
      ]
     },
     "execution_count": 63,
     "metadata": {},
     "output_type": "execute_result"
    }
   ],
   "source": [
    "a = np.array([[3, 7, 2],  #Standard Deviation\n",
    "              [9, 1, 5]])\n",
    "np.std(a)"
   ]
  },
  {
   "cell_type": "markdown",
   "id": "a7a70b80",
   "metadata": {
    "papermill": {
     "duration": 0.017826,
     "end_time": "2025-09-06T09:26:12.661638",
     "exception": false,
     "start_time": "2025-09-06T09:26:12.643812",
     "status": "completed"
    },
    "tags": []
   },
   "source": [
    "# 8.Aggregate Functions:"
   ]
  },
  {
   "cell_type": "code",
   "execution_count": 64,
   "id": "58d673c4",
   "metadata": {
    "execution": {
     "iopub.execute_input": "2025-09-06T09:26:12.698916Z",
     "iopub.status.busy": "2025-09-06T09:26:12.698581Z",
     "iopub.status.idle": "2025-09-06T09:26:12.704352Z",
     "shell.execute_reply": "2025-09-06T09:26:12.703667Z"
    },
    "papermill": {
     "duration": 0.02585,
     "end_time": "2025-09-06T09:26:12.705547",
     "exception": false,
     "start_time": "2025-09-06T09:26:12.679697",
     "status": "completed"
    },
    "tags": []
   },
   "outputs": [
    {
     "data": {
      "text/plain": [
       "array([1, 2, 3, 4, 5, 6])"
      ]
     },
     "execution_count": 64,
     "metadata": {},
     "output_type": "execute_result"
    }
   ],
   "source": [
    "a = np.array([1,2,3,4,5,6])  #Creates a new array object that shares the same data as a\n",
    "h = a.view()\n",
    "h"
   ]
  },
  {
   "cell_type": "code",
   "execution_count": 65,
   "id": "a9e8342b",
   "metadata": {
    "execution": {
     "iopub.execute_input": "2025-09-06T09:26:12.743986Z",
     "iopub.status.busy": "2025-09-06T09:26:12.743639Z",
     "iopub.status.idle": "2025-09-06T09:26:12.749240Z",
     "shell.execute_reply": "2025-09-06T09:26:12.748593Z"
    },
    "papermill": {
     "duration": 0.026113,
     "end_time": "2025-09-06T09:26:12.750561",
     "exception": false,
     "start_time": "2025-09-06T09:26:12.724448",
     "status": "completed"
    },
    "tags": []
   },
   "outputs": [
    {
     "data": {
      "text/plain": [
       "array([1, 2, 3, 4, 5, 6])"
      ]
     },
     "execution_count": 65,
     "metadata": {},
     "output_type": "execute_result"
    }
   ],
   "source": [
    "a = np.array([1,2,3,4,5,6])  #Creates a deep copy of a\n",
    "b = np.copy(a)\n",
    "b"
   ]
  },
  {
   "cell_type": "code",
   "execution_count": 66,
   "id": "08666419",
   "metadata": {
    "execution": {
     "iopub.execute_input": "2025-09-06T09:26:12.789421Z",
     "iopub.status.busy": "2025-09-06T09:26:12.788628Z",
     "iopub.status.idle": "2025-09-06T09:26:12.794954Z",
     "shell.execute_reply": "2025-09-06T09:26:12.794141Z"
    },
    "papermill": {
     "duration": 0.027255,
     "end_time": "2025-09-06T09:26:12.796467",
     "exception": false,
     "start_time": "2025-09-06T09:26:12.769212",
     "status": "completed"
    },
    "tags": []
   },
   "outputs": [
    {
     "data": {
      "text/plain": [
       "array([1, 2, 3, 4, 5, 6])"
      ]
     },
     "execution_count": 66,
     "metadata": {},
     "output_type": "execute_result"
    }
   ],
   "source": [
    "a = np.array([1,2,3,4,5,6])   #Same as np.copy(a)\n",
    "b = a.copy()\n",
    "b"
   ]
  },
  {
   "cell_type": "markdown",
   "id": "ace140cd",
   "metadata": {
    "papermill": {
     "duration": 0.018433,
     "end_time": "2025-09-06T09:26:12.833855",
     "exception": false,
     "start_time": "2025-09-06T09:26:12.815422",
     "status": "completed"
    },
    "tags": []
   },
   "source": [
    "# 9.Sorting Arrays:\n"
   ]
  },
  {
   "cell_type": "code",
   "execution_count": 67,
   "id": "6b873c18",
   "metadata": {
    "execution": {
     "iopub.execute_input": "2025-09-06T09:26:12.871776Z",
     "iopub.status.busy": "2025-09-06T09:26:12.871470Z",
     "iopub.status.idle": "2025-09-06T09:26:12.876824Z",
     "shell.execute_reply": "2025-09-06T09:26:12.876210Z"
    },
    "papermill": {
     "duration": 0.025788,
     "end_time": "2025-09-06T09:26:12.878094",
     "exception": false,
     "start_time": "2025-09-06T09:26:12.852306",
     "status": "completed"
    },
    "tags": []
   },
   "outputs": [
    {
     "data": {
      "text/plain": [
       "array([1, 2, 3, 4])"
      ]
     },
     "execution_count": 67,
     "metadata": {},
     "output_type": "execute_result"
    }
   ],
   "source": [
    "a = np.array([3,1,4,2])   #Sort an array\n",
    "a.sort()\n",
    "a"
   ]
  },
  {
   "cell_type": "code",
   "execution_count": 68,
   "id": "7437dccc",
   "metadata": {
    "execution": {
     "iopub.execute_input": "2025-09-06T09:26:12.916315Z",
     "iopub.status.busy": "2025-09-06T09:26:12.916032Z",
     "iopub.status.idle": "2025-09-06T09:26:12.922010Z",
     "shell.execute_reply": "2025-09-06T09:26:12.921137Z"
    },
    "papermill": {
     "duration": 0.026813,
     "end_time": "2025-09-06T09:26:12.923370",
     "exception": false,
     "start_time": "2025-09-06T09:26:12.896557",
     "status": "completed"
    },
    "tags": []
   },
   "outputs": [
    {
     "name": "stdout",
     "output_type": "stream",
     "text": [
      "Column-wise: [[2 7 1]\n",
      " [3 8 5]\n",
      " [4 9 6]]\n",
      "Row-wise [[1 2 7]\n",
      " [3 5 8]\n",
      " [4 6 9]]\n"
     ]
    }
   ],
   "source": [
    "a = np.array([[3, 7, 1],    #Sort the elements of an array's axis\n",
    "              [2, 9, 5],\n",
    "              [4, 8, 6]]) \n",
    "#FOR 2D ARRAY:\n",
    "a.sort(axis=0)    #axis=0: sort column-wise\n",
    "print(\"Column-wise:\",a)\n",
    "a.sort(axis=1)    #axis=1: sort row-wise\n",
    "print(\"Row-wise\",a)"
   ]
  },
  {
   "cell_type": "markdown",
   "id": "3cd78922",
   "metadata": {
    "papermill": {
     "duration": 0.01824,
     "end_time": "2025-09-06T09:26:12.960438",
     "exception": false,
     "start_time": "2025-09-06T09:26:12.942198",
     "status": "completed"
    },
    "tags": []
   },
   "source": [
    "# 10.Subsetting,Slicing,Indexing:"
   ]
  },
  {
   "cell_type": "markdown",
   "id": "61690a79",
   "metadata": {
    "papermill": {
     "duration": 0.018168,
     "end_time": "2025-09-06T09:26:12.997309",
     "exception": false,
     "start_time": "2025-09-06T09:26:12.979141",
     "status": "completed"
    },
    "tags": []
   },
   "source": [
    "### (i).Subsetting:"
   ]
  },
  {
   "cell_type": "code",
   "execution_count": 69,
   "id": "f8e76ecb",
   "metadata": {
    "execution": {
     "iopub.execute_input": "2025-09-06T09:26:13.035301Z",
     "iopub.status.busy": "2025-09-06T09:26:13.035016Z",
     "iopub.status.idle": "2025-09-06T09:26:13.040442Z",
     "shell.execute_reply": "2025-09-06T09:26:13.039728Z"
    },
    "papermill": {
     "duration": 0.026091,
     "end_time": "2025-09-06T09:26:13.041809",
     "exception": false,
     "start_time": "2025-09-06T09:26:13.015718",
     "status": "completed"
    },
    "tags": []
   },
   "outputs": [
    {
     "data": {
      "text/plain": [
       "9"
      ]
     },
     "execution_count": 69,
     "metadata": {},
     "output_type": "execute_result"
    }
   ],
   "source": [
    "import numpy as np      #Select the element at the 2nd index\n",
    "a = np.array([7,2,9])\n",
    "a[2]                     #For 1D  \n"
   ]
  },
  {
   "cell_type": "code",
   "execution_count": 70,
   "id": "42edca2f",
   "metadata": {
    "execution": {
     "iopub.execute_input": "2025-09-06T09:26:13.082131Z",
     "iopub.status.busy": "2025-09-06T09:26:13.081822Z",
     "iopub.status.idle": "2025-09-06T09:26:13.087074Z",
     "shell.execute_reply": "2025-09-06T09:26:13.086439Z"
    },
    "papermill": {
     "duration": 0.02684,
     "end_time": "2025-09-06T09:26:13.088317",
     "exception": false,
     "start_time": "2025-09-06T09:26:13.061477",
     "status": "completed"
    },
    "tags": []
   },
   "outputs": [
    {
     "data": {
      "text/plain": [
       "9"
      ]
     },
     "execution_count": 70,
     "metadata": {},
     "output_type": "execute_result"
    }
   ],
   "source": [
    "b = np.array([[3,6,5],    #Select the element at row1 column2\n",
    "              [7,4,9]])\n",
    "b[1,2]                    #For 2D"
   ]
  },
  {
   "cell_type": "code",
   "execution_count": 71,
   "id": "4804ee2e",
   "metadata": {
    "execution": {
     "iopub.execute_input": "2025-09-06T09:26:13.128321Z",
     "iopub.status.busy": "2025-09-06T09:26:13.128047Z",
     "iopub.status.idle": "2025-09-06T09:26:13.133515Z",
     "shell.execute_reply": "2025-09-06T09:26:13.132910Z"
    },
    "papermill": {
     "duration": 0.027472,
     "end_time": "2025-09-06T09:26:13.134720",
     "exception": false,
     "start_time": "2025-09-06T09:26:13.107248",
     "status": "completed"
    },
    "tags": []
   },
   "outputs": [
    {
     "data": {
      "text/plain": [
       "11"
      ]
     },
     "execution_count": 71,
     "metadata": {},
     "output_type": "execute_result"
    }
   ],
   "source": [
    "c = np.array([[[1,2,3],\n",
    "               [4,5,6]],\n",
    "              [[7,8,9],\n",
    "               [10,11,12]]])\n",
    "c[1,1,1]                    #For 3D - c[page, row, column]"
   ]
  },
  {
   "cell_type": "markdown",
   "id": "b713363c",
   "metadata": {
    "papermill": {
     "duration": 0.018336,
     "end_time": "2025-09-06T09:26:13.172330",
     "exception": false,
     "start_time": "2025-09-06T09:26:13.153994",
     "status": "completed"
    },
    "tags": []
   },
   "source": [
    "### (ii).Slicing:"
   ]
  },
  {
   "cell_type": "code",
   "execution_count": 72,
   "id": "9dfa93e7",
   "metadata": {
    "execution": {
     "iopub.execute_input": "2025-09-06T09:26:13.211923Z",
     "iopub.status.busy": "2025-09-06T09:26:13.210855Z",
     "iopub.status.idle": "2025-09-06T09:26:13.217352Z",
     "shell.execute_reply": "2025-09-06T09:26:13.216544Z"
    },
    "papermill": {
     "duration": 0.027546,
     "end_time": "2025-09-06T09:26:13.218697",
     "exception": false,
     "start_time": "2025-09-06T09:26:13.191151",
     "status": "completed"
    },
    "tags": []
   },
   "outputs": [
    {
     "data": {
      "text/plain": [
       "array([2, 3, 6, 7])"
      ]
     },
     "execution_count": 72,
     "metadata": {},
     "output_type": "execute_result"
    }
   ],
   "source": [
    "a = np.array([1,2,3,6,7,5,9])  #Select items at index 0 and 1\n",
    "a[1:5]"
   ]
  },
  {
   "cell_type": "code",
   "execution_count": 73,
   "id": "e30cef55",
   "metadata": {
    "execution": {
     "iopub.execute_input": "2025-09-06T09:26:13.260348Z",
     "iopub.status.busy": "2025-09-06T09:26:13.260063Z",
     "iopub.status.idle": "2025-09-06T09:26:13.265663Z",
     "shell.execute_reply": "2025-09-06T09:26:13.264800Z"
    },
    "papermill": {
     "duration": 0.0289,
     "end_time": "2025-09-06T09:26:13.267115",
     "exception": false,
     "start_time": "2025-09-06T09:26:13.238215",
     "status": "completed"
    },
    "tags": []
   },
   "outputs": [
    {
     "name": "stdout",
     "output_type": "stream",
     "text": [
      "[6 3]\n",
      "[5 6]\n"
     ]
    }
   ],
   "source": [
    "b = np.array([[5,6,8],     #For 2-D\n",
    "              [1,3,9]])\n",
    "print(b[0:2,1])            #b[range, column1]\n",
    "print(b[0,0:2])            #b[row0 , range]"
   ]
  },
  {
   "cell_type": "code",
   "execution_count": 74,
   "id": "f09f2cac",
   "metadata": {
    "execution": {
     "iopub.execute_input": "2025-09-06T09:26:13.306844Z",
     "iopub.status.busy": "2025-09-06T09:26:13.306567Z",
     "iopub.status.idle": "2025-09-06T09:26:13.312370Z",
     "shell.execute_reply": "2025-09-06T09:26:13.311451Z"
    },
    "papermill": {
     "duration": 0.027221,
     "end_time": "2025-09-06T09:26:13.313785",
     "exception": false,
     "start_time": "2025-09-06T09:26:13.286564",
     "status": "completed"
    },
    "tags": []
   },
   "outputs": [
    {
     "name": "stdout",
     "output_type": "stream",
     "text": [
      "[[ 7  8  9]\n",
      " [10 11 12]]\n",
      "[[ 1  4]\n",
      " [ 7 10]]\n",
      "[[ 8  9]\n",
      " [11 12]]\n"
     ]
    }
   ],
   "source": [
    "c = np.array([[[1,2,3],       #For 3-D\n",
    "               [4,5,6]],\n",
    "              [[7,8,9],\n",
    "               [10,11,12]]])\n",
    "print(c[1, :, :])       # c[page range,row range,column range]\n",
    "print(c[:, :, 0])       # column 0 from all pages\n",
    "print(c[1, :, 1:])      # page 1, all rows, cols 1→end"
   ]
  },
  {
   "cell_type": "code",
   "execution_count": 75,
   "id": "a9d83710",
   "metadata": {
    "execution": {
     "iopub.execute_input": "2025-09-06T09:26:13.353327Z",
     "iopub.status.busy": "2025-09-06T09:26:13.353054Z",
     "iopub.status.idle": "2025-09-06T09:26:13.359110Z",
     "shell.execute_reply": "2025-09-06T09:26:13.358319Z"
    },
    "papermill": {
     "duration": 0.027389,
     "end_time": "2025-09-06T09:26:13.360361",
     "exception": false,
     "start_time": "2025-09-06T09:26:13.332972",
     "status": "completed"
    },
    "tags": []
   },
   "outputs": [
    {
     "data": {
      "text/plain": [
       "array([5, 3, 1])"
      ]
     },
     "execution_count": 75,
     "metadata": {},
     "output_type": "execute_result"
    }
   ],
   "source": [
    "a = np.array([1,3,5])    # Reversed array (For 1-D)\n",
    "a[::-1]                  # a[start:end:step]"
   ]
  },
  {
   "cell_type": "code",
   "execution_count": 76,
   "id": "6db5b2e4",
   "metadata": {
    "execution": {
     "iopub.execute_input": "2025-09-06T09:26:13.400466Z",
     "iopub.status.busy": "2025-09-06T09:26:13.400190Z",
     "iopub.status.idle": "2025-09-06T09:26:13.405767Z",
     "shell.execute_reply": "2025-09-06T09:26:13.404771Z"
    },
    "papermill": {
     "duration": 0.02731,
     "end_time": "2025-09-06T09:26:13.407277",
     "exception": false,
     "start_time": "2025-09-06T09:26:13.379967",
     "status": "completed"
    },
    "tags": []
   },
   "outputs": [
    {
     "name": "stdout",
     "output_type": "stream",
     "text": [
      "[[4 5 6]\n",
      " [1 2 3]]\n",
      "[[3 2 1]\n",
      " [6 5 4]]\n",
      "[[6 5 4]\n",
      " [3 2 1]]\n"
     ]
    }
   ],
   "source": [
    "a = np.array([[1,2,3],            #For 2-D\n",
    "              [4,5,6]])\n",
    "print(a[::-1])              #Flips vertically\n",
    "print(a[:,::-1])            #Flips horizontally\n",
    "print(a[::-1 , ::-1])  #Reverse both rows and columns"
   ]
  },
  {
   "cell_type": "markdown",
   "id": "a9b3e54b",
   "metadata": {
    "papermill": {
     "duration": 0.019072,
     "end_time": "2025-09-06T09:26:13.446356",
     "exception": false,
     "start_time": "2025-09-06T09:26:13.427284",
     "status": "completed"
    },
    "tags": []
   },
   "source": [
    "### (iii).Boolean Indexing"
   ]
  },
  {
   "cell_type": "code",
   "execution_count": 77,
   "id": "d086acb1",
   "metadata": {
    "execution": {
     "iopub.execute_input": "2025-09-06T09:26:13.488053Z",
     "iopub.status.busy": "2025-09-06T09:26:13.487436Z",
     "iopub.status.idle": "2025-09-06T09:26:13.493496Z",
     "shell.execute_reply": "2025-09-06T09:26:13.492693Z"
    },
    "papermill": {
     "duration": 0.028428,
     "end_time": "2025-09-06T09:26:13.494945",
     "exception": false,
     "start_time": "2025-09-06T09:26:13.466517",
     "status": "completed"
    },
    "tags": []
   },
   "outputs": [
    {
     "data": {
      "text/plain": [
       "array([1, 2, 3, 4])"
      ]
     },
     "execution_count": 77,
     "metadata": {},
     "output_type": "execute_result"
    }
   ],
   "source": [
    "#Select elements from (a) less than 5\n",
    "\n",
    "a = np.array([1,2,3,4,5,6])         #For 1-D\n",
    "a[a<5]"
   ]
  },
  {
   "cell_type": "code",
   "execution_count": 78,
   "id": "63d1a374",
   "metadata": {
    "execution": {
     "iopub.execute_input": "2025-09-06T09:26:13.534740Z",
     "iopub.status.busy": "2025-09-06T09:26:13.534462Z",
     "iopub.status.idle": "2025-09-06T09:26:13.540261Z",
     "shell.execute_reply": "2025-09-06T09:26:13.539226Z"
    },
    "papermill": {
     "duration": 0.027368,
     "end_time": "2025-09-06T09:26:13.541735",
     "exception": false,
     "start_time": "2025-09-06T09:26:13.514367",
     "status": "completed"
    },
    "tags": []
   },
   "outputs": [
    {
     "data": {
      "text/plain": [
       "array([1, 2, 3])"
      ]
     },
     "execution_count": 78,
     "metadata": {},
     "output_type": "execute_result"
    }
   ],
   "source": [
    "a = np.array([[1,2,3],             #For 2-D\n",
    "              [4,5,6]])\n",
    "a[a<4]"
   ]
  },
  {
   "cell_type": "code",
   "execution_count": 79,
   "id": "e2dc5152",
   "metadata": {
    "execution": {
     "iopub.execute_input": "2025-09-06T09:26:13.582778Z",
     "iopub.status.busy": "2025-09-06T09:26:13.582484Z",
     "iopub.status.idle": "2025-09-06T09:26:13.588447Z",
     "shell.execute_reply": "2025-09-06T09:26:13.587725Z"
    },
    "papermill": {
     "duration": 0.028368,
     "end_time": "2025-09-06T09:26:13.589964",
     "exception": false,
     "start_time": "2025-09-06T09:26:13.561596",
     "status": "completed"
    },
    "tags": []
   },
   "outputs": [
    {
     "data": {
      "text/plain": [
       "array([1, 3, 4, 5, 6, 7, 8, 9])"
      ]
     },
     "execution_count": 79,
     "metadata": {},
     "output_type": "execute_result"
    }
   ],
   "source": [
    "c = np.array([[[1,11,3],           #For 3-D\n",
    "               [4,5,6]],\n",
    "              [[7,8,9],\n",
    "               [10,15,12]]])\n",
    "c[c<10]"
   ]
  },
  {
   "cell_type": "markdown",
   "id": "a103ce50",
   "metadata": {
    "papermill": {
     "duration": 0.020517,
     "end_time": "2025-09-06T09:26:13.630806",
     "exception": false,
     "start_time": "2025-09-06T09:26:13.610289",
     "status": "completed"
    },
    "tags": []
   },
   "source": [
    "### (iv).Fancy Indexing"
   ]
  },
  {
   "cell_type": "code",
   "execution_count": 80,
   "id": "76edce02",
   "metadata": {
    "execution": {
     "iopub.execute_input": "2025-09-06T09:26:13.671589Z",
     "iopub.status.busy": "2025-09-06T09:26:13.671282Z",
     "iopub.status.idle": "2025-09-06T09:26:13.676272Z",
     "shell.execute_reply": "2025-09-06T09:26:13.675288Z"
    },
    "papermill": {
     "duration": 0.026669,
     "end_time": "2025-09-06T09:26:13.677610",
     "exception": false,
     "start_time": "2025-09-06T09:26:13.650941",
     "status": "completed"
    },
    "tags": []
   },
   "outputs": [
    {
     "name": "stdout",
     "output_type": "stream",
     "text": [
      "[10 30 50]\n"
     ]
    }
   ],
   "source": [
    "#For 1-D\n",
    "a = np.array([10, 20, 30, 40, 50])\n",
    "print(a[[0, 2, 4]])       # Get elements at positions 0, 2, 4"
   ]
  },
  {
   "cell_type": "code",
   "execution_count": 81,
   "id": "e834a0c3",
   "metadata": {
    "execution": {
     "iopub.execute_input": "2025-09-06T09:26:13.717824Z",
     "iopub.status.busy": "2025-09-06T09:26:13.717541Z",
     "iopub.status.idle": "2025-09-06T09:26:13.723247Z",
     "shell.execute_reply": "2025-09-06T09:26:13.722223Z"
    },
    "papermill": {
     "duration": 0.028027,
     "end_time": "2025-09-06T09:26:13.725162",
     "exception": false,
     "start_time": "2025-09-06T09:26:13.697135",
     "status": "completed"
    },
    "tags": []
   },
   "outputs": [
    {
     "name": "stdout",
     "output_type": "stream",
     "text": [
      "[[10 20 30]\n",
      " [40 50 60]]\n",
      "[[10 20]\n",
      " [40 50]]\n"
     ]
    }
   ],
   "source": [
    "#For 2-D\n",
    "b = np.array([[10, 20, 30],    \n",
    "              [40, 50, 60]])\n",
    "print(b[[0,1],:])     #Pick specific rows , #rows 0 and 1\n",
    "print(b[:,[0,1]])     #Pick specific columns , #all rows,only columns 0 & 1"
   ]
  },
  {
   "cell_type": "code",
   "execution_count": 82,
   "id": "67b0e2f1",
   "metadata": {
    "execution": {
     "iopub.execute_input": "2025-09-06T09:26:13.767531Z",
     "iopub.status.busy": "2025-09-06T09:26:13.767242Z",
     "iopub.status.idle": "2025-09-06T09:26:13.774779Z",
     "shell.execute_reply": "2025-09-06T09:26:13.773704Z"
    },
    "papermill": {
     "duration": 0.029958,
     "end_time": "2025-09-06T09:26:13.776191",
     "exception": false,
     "start_time": "2025-09-06T09:26:13.746233",
     "status": "completed"
    },
    "tags": []
   },
   "outputs": [
    {
     "name": "stdout",
     "output_type": "stream",
     "text": [
      "[[[ 0  1  2  3]\n",
      "  [ 4  5  6  7]\n",
      "  [ 8  9 10 11]]\n",
      "\n",
      " [[12 13 14 15]\n",
      "  [16 17 18 19]\n",
      "  [20 21 22 23]]]\n",
      "[[[12 13 14 15]\n",
      "  [16 17 18 19]\n",
      "  [20 21 22 23]]]\n",
      "[[[ 0  1  2  3]\n",
      "  [ 8  9 10 11]]\n",
      "\n",
      " [[12 13 14 15]\n",
      "  [20 21 22 23]]]\n",
      "[[[ 1  3]\n",
      "  [ 5  7]\n",
      "  [ 9 11]]\n",
      "\n",
      " [[13 15]\n",
      "  [17 19]\n",
      "  [21 23]]]\n",
      "[ 6 23]\n"
     ]
    }
   ],
   "source": [
    "#For 3-D \n",
    "import numpy as np\n",
    "c = np.array([[[0,1,2,3],    \n",
    "               [4,5,6,7],\n",
    "               [8,9,10,11]],\n",
    "             [[12,13,14,15],  \n",
    "              [16,17,18,19],\n",
    "              [20,21,22,23]]])\n",
    "#Fancy Indexing on Pages\n",
    "print(c[[0,1]])              #Pick both pages\n",
    "print(c[[1]])                #Pick only page 1\n",
    "\n",
    "#Fancy Indexing on Rows\n",
    "print(c[:,[0,2]])            #Pick row 0 and row2 from each page\n",
    "\n",
    "#Fancy Indexing on Columns\n",
    "print(c[:,:,[1,3]])          #Pick col 1 and col3 from each row of page\n",
    "\n",
    "#Fancy Indexing with Multiple Axes Together\n",
    "print(c[[0,1],[1,2],[2,3]])  #Pick specific elements\n",
    "\n",
    "#This works element-wise:\n",
    "#>>>From page 0, row 1, col 2 → 6\n",
    "#>>>From page 1, row 2, col 3 → 23"
   ]
  },
  {
   "cell_type": "markdown",
   "id": "de21da75",
   "metadata": {
    "papermill": {
     "duration": 0.020134,
     "end_time": "2025-09-06T09:26:13.816619",
     "exception": false,
     "start_time": "2025-09-06T09:26:13.796485",
     "status": "completed"
    },
    "tags": []
   },
   "source": [
    "# 11.Array Manipulation:"
   ]
  },
  {
   "cell_type": "markdown",
   "id": "e63797c0",
   "metadata": {
    "papermill": {
     "duration": 0.019475,
     "end_time": "2025-09-06T09:26:13.856191",
     "exception": false,
     "start_time": "2025-09-06T09:26:13.836716",
     "status": "completed"
    },
    "tags": []
   },
   "source": [
    "### (i).Transposing Array:"
   ]
  },
  {
   "cell_type": "code",
   "execution_count": 83,
   "id": "30be9652",
   "metadata": {
    "execution": {
     "iopub.execute_input": "2025-09-06T09:26:13.896592Z",
     "iopub.status.busy": "2025-09-06T09:26:13.896305Z",
     "iopub.status.idle": "2025-09-06T09:26:13.901478Z",
     "shell.execute_reply": "2025-09-06T09:26:13.900559Z"
    },
    "papermill": {
     "duration": 0.02737,
     "end_time": "2025-09-06T09:26:13.903116",
     "exception": false,
     "start_time": "2025-09-06T09:26:13.875746",
     "status": "completed"
    },
    "tags": []
   },
   "outputs": [
    {
     "name": "stdout",
     "output_type": "stream",
     "text": [
      "[[1 4]\n",
      " [2 5]\n",
      " [3 6]]\n",
      "[[1 4]\n",
      " [2 5]\n",
      " [3 6]]\n"
     ]
    }
   ],
   "source": [
    "a = np.array([[1,2,3],       #Swap rows and columns\n",
    "              [4,5,6]])\n",
    "print(a.T)                   #Method1:(Simple transpose)\n",
    "print(np.transpose(a))        #Method2:(Flexible)\n",
    "\n",
    "#For 2D arrays, np.transpose(a) and a.T are the same"
   ]
  },
  {
   "cell_type": "code",
   "execution_count": 84,
   "id": "c3a30a25",
   "metadata": {
    "execution": {
     "iopub.execute_input": "2025-09-06T09:26:13.944583Z",
     "iopub.status.busy": "2025-09-06T09:26:13.944283Z",
     "iopub.status.idle": "2025-09-06T09:26:13.949835Z",
     "shell.execute_reply": "2025-09-06T09:26:13.948924Z"
    },
    "papermill": {
     "duration": 0.028247,
     "end_time": "2025-09-06T09:26:13.951367",
     "exception": false,
     "start_time": "2025-09-06T09:26:13.923120",
     "status": "completed"
    },
    "tags": []
   },
   "outputs": [
    {
     "name": "stdout",
     "output_type": "stream",
     "text": [
      "[[[ 1  2  3  4]\n",
      "  [ 9 10 11 12]]\n",
      "\n",
      " [[ 5  6  7  8]\n",
      "  [13 14 15 16]]]\n"
     ]
    }
   ],
   "source": [
    "a = np.array([[[1,2,3,4],\n",
    "               [5,6,7,8]],\n",
    "              [[9,10,11,12],\n",
    "               [13,14,15,16]]])\n",
    "print(np.transpose(a, (1,0,2)))  #Method2:(Flexible(you can specify axis order))"
   ]
  },
  {
   "cell_type": "markdown",
   "id": "ab8e2a4e",
   "metadata": {
    "papermill": {
     "duration": 0.019541,
     "end_time": "2025-09-06T09:26:13.991370",
     "exception": false,
     "start_time": "2025-09-06T09:26:13.971829",
     "status": "completed"
    },
    "tags": []
   },
   "source": [
    "### (iii).Changing Array Shape:"
   ]
  },
  {
   "cell_type": "code",
   "execution_count": 85,
   "id": "f518e9bd",
   "metadata": {
    "execution": {
     "iopub.execute_input": "2025-09-06T09:26:14.033504Z",
     "iopub.status.busy": "2025-09-06T09:26:14.032750Z",
     "iopub.status.idle": "2025-09-06T09:26:14.038450Z",
     "shell.execute_reply": "2025-09-06T09:26:14.037648Z"
    },
    "papermill": {
     "duration": 0.028292,
     "end_time": "2025-09-06T09:26:14.039820",
     "exception": false,
     "start_time": "2025-09-06T09:26:14.011528",
     "status": "completed"
    },
    "tags": []
   },
   "outputs": [
    {
     "data": {
      "text/plain": [
       "array([1, 2, 3, 4, 5, 6, 7, 8])"
      ]
     },
     "execution_count": 85,
     "metadata": {},
     "output_type": "execute_result"
    }
   ],
   "source": [
    "a = np.array([[1,2,3,4],\n",
    "              [5,6,7,8]])\n",
    "a.ravel()                     #Flatten to 1D"
   ]
  },
  {
   "cell_type": "code",
   "execution_count": 86,
   "id": "ba0effe8",
   "metadata": {
    "execution": {
     "iopub.execute_input": "2025-09-06T09:26:14.081685Z",
     "iopub.status.busy": "2025-09-06T09:26:14.080846Z",
     "iopub.status.idle": "2025-09-06T09:26:14.087024Z",
     "shell.execute_reply": "2025-09-06T09:26:14.086371Z"
    },
    "papermill": {
     "duration": 0.028477,
     "end_time": "2025-09-06T09:26:14.088272",
     "exception": false,
     "start_time": "2025-09-06T09:26:14.059795",
     "status": "completed"
    },
    "tags": []
   },
   "outputs": [
    {
     "data": {
      "text/plain": [
       "array([[ 1,  2],\n",
       "       [ 3,  4],\n",
       "       [ 5,  6],\n",
       "       [ 7,  8],\n",
       "       [ 9, 10],\n",
       "       [11, 12],\n",
       "       [13, 14],\n",
       "       [15, 16]])"
      ]
     },
     "execution_count": 86,
     "metadata": {},
     "output_type": "execute_result"
    }
   ],
   "source": [
    "a = np.array([[[1,2,3,4],\n",
    "              [5,6,7,8]],\n",
    "             [[9,10,11,12],\n",
    "              [13,14,15,16]]])\n",
    "a.reshape(8,2)              #Reshape to dimension given"
   ]
  },
  {
   "cell_type": "markdown",
   "id": "3d51218b",
   "metadata": {
    "papermill": {
     "duration": 0.019923,
     "end_time": "2025-09-06T09:26:14.128489",
     "exception": false,
     "start_time": "2025-09-06T09:26:14.108566",
     "status": "completed"
    },
    "tags": []
   },
   "source": [
    "### (iii).Adding/Removing Elements:"
   ]
  },
  {
   "cell_type": "code",
   "execution_count": 87,
   "id": "cc72d10b",
   "metadata": {
    "execution": {
     "iopub.execute_input": "2025-09-06T09:26:14.168919Z",
     "iopub.status.busy": "2025-09-06T09:26:14.168594Z",
     "iopub.status.idle": "2025-09-06T09:26:14.174264Z",
     "shell.execute_reply": "2025-09-06T09:26:14.173602Z"
    },
    "papermill": {
     "duration": 0.02731,
     "end_time": "2025-09-06T09:26:14.175568",
     "exception": false,
     "start_time": "2025-09-06T09:26:14.148258",
     "status": "completed"
    },
    "tags": []
   },
   "outputs": [
    {
     "data": {
      "text/plain": [
       "array([[1, 2, 3, 4, 5, 6, 7, 8, 0, 0],\n",
       "       [0, 0, 0, 0, 0, 0, 0, 0, 0, 0]])"
      ]
     },
     "execution_count": 87,
     "metadata": {},
     "output_type": "execute_result"
    }
   ],
   "source": [
    "a = np.array([[1,2,3,4],\n",
    "              [5,6,7,8]])\n",
    "a.resize((2,10))        #Return a new array (if ele is not present it adds 0) \n",
    "a"
   ]
  },
  {
   "cell_type": "code",
   "execution_count": 88,
   "id": "32b69060",
   "metadata": {
    "execution": {
     "iopub.execute_input": "2025-09-06T09:26:14.217641Z",
     "iopub.status.busy": "2025-09-06T09:26:14.217068Z",
     "iopub.status.idle": "2025-09-06T09:26:14.222894Z",
     "shell.execute_reply": "2025-09-06T09:26:14.221940Z"
    },
    "papermill": {
     "duration": 0.028549,
     "end_time": "2025-09-06T09:26:14.224326",
     "exception": false,
     "start_time": "2025-09-06T09:26:14.195777",
     "status": "completed"
    },
    "tags": []
   },
   "outputs": [
    {
     "name": "stdout",
     "output_type": "stream",
     "text": [
      "[10 20 30 40 50]\n",
      "[10 15 20 30]\n",
      "[10 30]\n"
     ]
    }
   ],
   "source": [
    "import numpy as np\n",
    "a = np.array([10,20,30])\n",
    "\n",
    "print(np.append(a,[40,50]))      #Add at end\n",
    "print(np.insert(a,1,[15]))       #Insert at index 1\n",
    "print(np.delete(a,1))            #Delete element at index 1\n",
    "\n",
    "#np.append(arr, values, axis=None)\n",
    "#np.insert(arr, index, values, axis=None)\n",
    "#np.delete(arr, index, axis=None)"
   ]
  },
  {
   "cell_type": "code",
   "execution_count": null,
   "id": "22381f10",
   "metadata": {
    "papermill": {
     "duration": 0.020117,
     "end_time": "2025-09-06T09:26:14.265497",
     "exception": false,
     "start_time": "2025-09-06T09:26:14.245380",
     "status": "completed"
    },
    "tags": []
   },
   "outputs": [],
   "source": []
  }
 ],
 "metadata": {
  "kaggle": {
   "accelerator": "none",
   "dataSources": [],
   "dockerImageVersionId": 31089,
   "isGpuEnabled": false,
   "isInternetEnabled": true,
   "language": "python",
   "sourceType": "notebook"
  },
  "kernelspec": {
   "display_name": "Python 3",
   "language": "python",
   "name": "python3"
  },
  "language_info": {
   "codemirror_mode": {
    "name": "ipython",
    "version": 3
   },
   "file_extension": ".py",
   "mimetype": "text/x-python",
   "name": "python",
   "nbconvert_exporter": "python",
   "pygments_lexer": "ipython3",
   "version": "3.11.13"
  },
  "papermill": {
   "default_parameters": {},
   "duration": 9.883462,
   "end_time": "2025-09-06T09:26:14.603384",
   "environment_variables": {},
   "exception": null,
   "input_path": "__notebook__.ipynb",
   "output_path": "__notebook__.ipynb",
   "parameters": {},
   "start_time": "2025-09-06T09:26:04.719922",
   "version": "2.6.0"
  }
 },
 "nbformat": 4,
 "nbformat_minor": 5
}
